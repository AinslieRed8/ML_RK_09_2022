{
 "cells": [
  {
   "cell_type": "markdown",
   "id": "7d26cec0",
   "metadata": {},
   "source": [
    "### Условие задачи"
   ]
  },
  {
   "cell_type": "markdown",
   "id": "477e24db",
   "metadata": {},
   "source": [
    "Участникам чемпионата предстоит создать свое решение по\n",
    "прогнозированию оттока с использованием данных о клиентах. В вашем\n",
    "доступе находится информация о запросах пользователей к сайтам\n",
    "конкурентов и история обращений в компанию"
   ]
  },
  {
   "cell_type": "markdown",
   "id": "5d3aaa6f",
   "metadata": {},
   "source": [
    "### Описание входных значений"
   ]
  },
  {
   "cell_type": "markdown",
   "id": "ed2478d9",
   "metadata": {},
   "source": [
    "train.csv — файл содержащий данные пользователей для тренировки. Где:\n",
    "-  1 - клиент ушел,\n",
    "-  0 - остался.\n",
    "\n",
    "log.csv — содержит данные обращения пользователей.;\n",
    "\n",
    "named.csv — лог днс-запросов к доменам конкурентов (rt.ru и sampo.ru).\n",
    "\n",
    "type contract.csv - тип списания у пользователей, где:\n",
    "-  1 - посуточная,\n",
    "-  0 - помесячная.\n",
    "\n",
    "submission.csv — пример файла для отправки."
   ]
  },
  {
   "cell_type": "markdown",
   "id": "a4e066fb",
   "metadata": {},
   "source": [
    "### Функции"
   ]
  },
  {
   "cell_type": "code",
   "execution_count": 1,
   "id": "d2d6164d",
   "metadata": {},
   "outputs": [],
   "source": [
    "def df_info(data):\n",
    "    display(data.info(verbose=True, show_counts=True))\n",
    "    display(data.head())"
   ]
  },
  {
   "cell_type": "code",
   "execution_count": 2,
   "id": "ac17e873",
   "metadata": {},
   "outputs": [],
   "source": [
    "# функция для вывода матрицы корреляций\\\n",
    "def corr_heatmap(data, title):\n",
    "    data.corr()\n",
    "    plt.figure(figsize=(18,10))\n",
    "    sns.set(font_scale=1.1)\n",
    "    sns.heatmap(data.corr(), annot=True, square=True, cmap=\"PuBuGn\", fmt='.2f')\\\n",
    "    .set_title(title)\n",
    "    plt.show()"
   ]
  },
  {
   "cell_type": "code",
   "execution_count": 3,
   "id": "fb182144",
   "metadata": {},
   "outputs": [],
   "source": [
    "def df_countplot(data, x, hue):\n",
    "    plt.figure(figsize=(15,5))\n",
    "    sns.countplot(x=x, hue = hue,data = data)\n",
    "    plt.show()"
   ]
  },
  {
   "cell_type": "code",
   "execution_count": 4,
   "id": "574e4b46",
   "metadata": {},
   "outputs": [],
   "source": [
    "def hist(data, col):\n",
    "    data[col].hist(figsize=(15,5))\n",
    "    plt.show()"
   ]
  },
  {
   "cell_type": "code",
   "execution_count": 5,
   "id": "eb10215f",
   "metadata": {},
   "outputs": [],
   "source": [
    "def boxplot(x):\n",
    "    plt.figure(figsize=(15,5))\n",
    "    sns.boxplot(x=x)\n",
    "    plt.show()"
   ]
  },
  {
   "cell_type": "markdown",
   "id": "cc97e23f",
   "metadata": {},
   "source": [
    "###  Библиотеки"
   ]
  },
  {
   "cell_type": "code",
   "execution_count": 6,
   "id": "f8ba5092",
   "metadata": {},
   "outputs": [],
   "source": [
    "import pandas as pd\n",
    "import numpy as np\n",
    "import seaborn as sns\n",
    "import matplotlib.pyplot as plt\n",
    "from sklearn.model_selection import train_test_split\n",
    "from sklearn.ensemble import RandomForestClassifier\n",
    "from sklearn.metrics import recall_score\n",
    "from catboost import CatBoostClassifier\n",
    "from sklearn.linear_model import LogisticRegression\n",
    "\n",
    "from datetime import datetime\n",
    "\n",
    "%matplotlib inline\n",
    "\n",
    "#отлючаем уведомления от Pandas\n",
    "import warnings\n",
    "warnings.filterwarnings('ignore')"
   ]
  },
  {
   "cell_type": "code",
   "execution_count": 7,
   "id": "0426df75",
   "metadata": {},
   "outputs": [],
   "source": [
    "from catboost import CatBoostClassifier\n",
    "from sklearn.model_selection import train_test_split\n",
    "from sklearn.tree import DecisionTreeClassifier \n",
    "from sklearn.ensemble import RandomForestClassifier\n",
    "from sklearn.tree import DecisionTreeRegressor\n",
    "from sklearn.preprocessing import OrdinalEncoder\n",
    "from sklearn.preprocessing import StandardScaler\n",
    "\n",
    "from sklearn.metrics import accuracy_score \n",
    "from sklearn.metrics import recall_score\n",
    "from sklearn.metrics import precision_score\n",
    "from sklearn.metrics import f1_score\n",
    "from sklearn.metrics import mean_squared_error\n",
    "from sklearn.utils import shuffle\n",
    "from sklearn.metrics import roc_auc_score"
   ]
  },
  {
   "cell_type": "markdown",
   "id": "c2c99ac4",
   "metadata": {},
   "source": [
    "### Загрузка датасетов"
   ]
  },
  {
   "cell_type": "code",
   "execution_count": 8,
   "id": "684995c7",
   "metadata": {},
   "outputs": [],
   "source": [
    "df_train = pd.read_csv(\"train_dataset_train.csv\")\n",
    "df_sample_solution = pd.read_csv(\"sample_solution.csv\")\n",
    "\n",
    "df_named = pd.read_csv(\"named.csv\")\n",
    "df_type_contract = pd.read_csv(\"type_contract.csv\")\n",
    "df_log = pd.read_csv(\"log.csv\")"
   ]
  },
  {
   "cell_type": "markdown",
   "id": "0cdcdff9",
   "metadata": {},
   "source": [
    "### Знакомство с данными"
   ]
  },
  {
   "cell_type": "code",
   "execution_count": 9,
   "id": "0303307b",
   "metadata": {},
   "outputs": [
    {
     "name": "stdout",
     "output_type": "stream",
     "text": [
      "<class 'pandas.core.frame.DataFrame'>\n",
      "RangeIndex: 5992 entries, 0 to 5991\n",
      "Data columns (total 2 columns):\n",
      " #   Column       Non-Null Count  Dtype\n",
      "---  ------       --------------  -----\n",
      " 0   contract_id  5992 non-null   int64\n",
      " 1   blocked      5992 non-null   int64\n",
      "dtypes: int64(2)\n",
      "memory usage: 93.8 KB\n"
     ]
    },
    {
     "data": {
      "text/plain": [
       "None"
      ]
     },
     "metadata": {},
     "output_type": "display_data"
    },
    {
     "data": {
      "text/html": [
       "<div>\n",
       "<style scoped>\n",
       "    .dataframe tbody tr th:only-of-type {\n",
       "        vertical-align: middle;\n",
       "    }\n",
       "\n",
       "    .dataframe tbody tr th {\n",
       "        vertical-align: top;\n",
       "    }\n",
       "\n",
       "    .dataframe thead th {\n",
       "        text-align: right;\n",
       "    }\n",
       "</style>\n",
       "<table border=\"1\" class=\"dataframe\">\n",
       "  <thead>\n",
       "    <tr style=\"text-align: right;\">\n",
       "      <th></th>\n",
       "      <th>contract_id</th>\n",
       "      <th>blocked</th>\n",
       "    </tr>\n",
       "  </thead>\n",
       "  <tbody>\n",
       "    <tr>\n",
       "      <th>0</th>\n",
       "      <td>7780</td>\n",
       "      <td>0</td>\n",
       "    </tr>\n",
       "    <tr>\n",
       "      <th>1</th>\n",
       "      <td>7785</td>\n",
       "      <td>0</td>\n",
       "    </tr>\n",
       "    <tr>\n",
       "      <th>2</th>\n",
       "      <td>7794</td>\n",
       "      <td>0</td>\n",
       "    </tr>\n",
       "    <tr>\n",
       "      <th>3</th>\n",
       "      <td>7795</td>\n",
       "      <td>0</td>\n",
       "    </tr>\n",
       "    <tr>\n",
       "      <th>4</th>\n",
       "      <td>7798</td>\n",
       "      <td>0</td>\n",
       "    </tr>\n",
       "  </tbody>\n",
       "</table>\n",
       "</div>"
      ],
      "text/plain": [
       "   contract_id  blocked\n",
       "0         7780        0\n",
       "1         7785        0\n",
       "2         7794        0\n",
       "3         7795        0\n",
       "4         7798        0"
      ]
     },
     "metadata": {},
     "output_type": "display_data"
    }
   ],
   "source": [
    "df_info(df_train)"
   ]
  },
  {
   "cell_type": "code",
   "execution_count": 10,
   "id": "b25d63e9",
   "metadata": {},
   "outputs": [
    {
     "name": "stdout",
     "output_type": "stream",
     "text": [
      "<class 'pandas.core.frame.DataFrame'>\n",
      "RangeIndex: 10646537 entries, 0 to 10646536\n",
      "Data columns (total 3 columns):\n",
      " #   Column       Non-Null Count     Dtype \n",
      "---  ------       --------------     ----- \n",
      " 0   date         10646537 non-null  object\n",
      " 1   url          10646537 non-null  object\n",
      " 2   contract_id  10646537 non-null  int64 \n",
      "dtypes: int64(1), object(2)\n",
      "memory usage: 243.7+ MB\n"
     ]
    },
    {
     "data": {
      "text/plain": [
       "None"
      ]
     },
     "metadata": {},
     "output_type": "display_data"
    },
    {
     "data": {
      "text/html": [
       "<div>\n",
       "<style scoped>\n",
       "    .dataframe tbody tr th:only-of-type {\n",
       "        vertical-align: middle;\n",
       "    }\n",
       "\n",
       "    .dataframe tbody tr th {\n",
       "        vertical-align: top;\n",
       "    }\n",
       "\n",
       "    .dataframe thead th {\n",
       "        text-align: right;\n",
       "    }\n",
       "</style>\n",
       "<table border=\"1\" class=\"dataframe\">\n",
       "  <thead>\n",
       "    <tr style=\"text-align: right;\">\n",
       "      <th></th>\n",
       "      <th>date</th>\n",
       "      <th>url</th>\n",
       "      <th>contract_id</th>\n",
       "    </tr>\n",
       "  </thead>\n",
       "  <tbody>\n",
       "    <tr>\n",
       "      <th>0</th>\n",
       "      <td>17-Apr-2021</td>\n",
       "      <td>webmail.sampo.ru</td>\n",
       "      <td>101397</td>\n",
       "    </tr>\n",
       "    <tr>\n",
       "      <th>1</th>\n",
       "      <td>17-Apr-2021</td>\n",
       "      <td>webmail.sampo.ru</td>\n",
       "      <td>179624</td>\n",
       "    </tr>\n",
       "    <tr>\n",
       "      <th>2</th>\n",
       "      <td>17-Apr-2021</td>\n",
       "      <td>tvip-provision.sampo.ru</td>\n",
       "      <td>190335</td>\n",
       "    </tr>\n",
       "    <tr>\n",
       "      <th>3</th>\n",
       "      <td>17-Apr-2021</td>\n",
       "      <td>tvip-provision.sampo.ru</td>\n",
       "      <td>61670</td>\n",
       "    </tr>\n",
       "    <tr>\n",
       "      <th>4</th>\n",
       "      <td>17-Apr-2021</td>\n",
       "      <td>tvip-provision.sampo.ru</td>\n",
       "      <td>39370</td>\n",
       "    </tr>\n",
       "  </tbody>\n",
       "</table>\n",
       "</div>"
      ],
      "text/plain": [
       "          date                      url  contract_id\n",
       "0  17-Apr-2021         webmail.sampo.ru       101397\n",
       "1  17-Apr-2021         webmail.sampo.ru       179624\n",
       "2  17-Apr-2021  tvip-provision.sampo.ru       190335\n",
       "3  17-Apr-2021  tvip-provision.sampo.ru        61670\n",
       "4  17-Apr-2021  tvip-provision.sampo.ru        39370"
      ]
     },
     "metadata": {},
     "output_type": "display_data"
    }
   ],
   "source": [
    "df_info(df_named) # лог днс-запросов к доменам конкурентов (rt.ru и sampo.ru)"
   ]
  },
  {
   "cell_type": "code",
   "execution_count": 11,
   "id": "df8232cb",
   "metadata": {},
   "outputs": [
    {
     "name": "stdout",
     "output_type": "stream",
     "text": [
      "<class 'pandas.core.frame.DataFrame'>\n",
      "RangeIndex: 25274 entries, 0 to 25273\n",
      "Data columns (total 3 columns):\n",
      " #   Column       Non-Null Count  Dtype \n",
      "---  ------       --------------  ----- \n",
      " 0   contract_id  25274 non-null  int64 \n",
      " 1   event_date   25274 non-null  object\n",
      " 2   event_type   25274 non-null  object\n",
      "dtypes: int64(1), object(2)\n",
      "memory usage: 592.5+ KB\n"
     ]
    },
    {
     "data": {
      "text/plain": [
       "None"
      ]
     },
     "metadata": {},
     "output_type": "display_data"
    },
    {
     "data": {
      "text/html": [
       "<div>\n",
       "<style scoped>\n",
       "    .dataframe tbody tr th:only-of-type {\n",
       "        vertical-align: middle;\n",
       "    }\n",
       "\n",
       "    .dataframe tbody tr th {\n",
       "        vertical-align: top;\n",
       "    }\n",
       "\n",
       "    .dataframe thead th {\n",
       "        text-align: right;\n",
       "    }\n",
       "</style>\n",
       "<table border=\"1\" class=\"dataframe\">\n",
       "  <thead>\n",
       "    <tr style=\"text-align: right;\">\n",
       "      <th></th>\n",
       "      <th>contract_id</th>\n",
       "      <th>event_date</th>\n",
       "      <th>event_type</th>\n",
       "    </tr>\n",
       "  </thead>\n",
       "  <tbody>\n",
       "    <tr>\n",
       "      <th>0</th>\n",
       "      <td>36294</td>\n",
       "      <td>2021-03-28 16:24:30</td>\n",
       "      <td>Добавление в Обращались с номеров</td>\n",
       "    </tr>\n",
       "    <tr>\n",
       "      <th>1</th>\n",
       "      <td>36294</td>\n",
       "      <td>2021-03-28 16:27:41</td>\n",
       "      <td>Обращение в службу заботы о клиентах</td>\n",
       "    </tr>\n",
       "    <tr>\n",
       "      <th>2</th>\n",
       "      <td>36294</td>\n",
       "      <td>2021-03-28 16:29:56</td>\n",
       "      <td>Выключение IPTV-пакета</td>\n",
       "    </tr>\n",
       "    <tr>\n",
       "      <th>3</th>\n",
       "      <td>36294</td>\n",
       "      <td>2021-03-28 16:29:56</td>\n",
       "      <td>Включение IPTV-пакета</td>\n",
       "    </tr>\n",
       "    <tr>\n",
       "      <th>4</th>\n",
       "      <td>36294</td>\n",
       "      <td>2021-03-28 16:35:04</td>\n",
       "      <td>Обращение в службу заботы о клиентах</td>\n",
       "    </tr>\n",
       "  </tbody>\n",
       "</table>\n",
       "</div>"
      ],
      "text/plain": [
       "   contract_id           event_date                            event_type\n",
       "0        36294  2021-03-28 16:24:30     Добавление в Обращались с номеров\n",
       "1        36294  2021-03-28 16:27:41  Обращение в службу заботы о клиентах\n",
       "2        36294  2021-03-28 16:29:56                Выключение IPTV-пакета\n",
       "3        36294  2021-03-28 16:29:56                 Включение IPTV-пакета\n",
       "4        36294  2021-03-28 16:35:04  Обращение в службу заботы о клиентах"
      ]
     },
     "metadata": {},
     "output_type": "display_data"
    }
   ],
   "source": [
    "df_info(df_log) # содержит данные обращения пользователей"
   ]
  },
  {
   "cell_type": "code",
   "execution_count": 12,
   "id": "ac83edfe",
   "metadata": {},
   "outputs": [
    {
     "name": "stdout",
     "output_type": "stream",
     "text": [
      "<class 'pandas.core.frame.DataFrame'>\n",
      "RangeIndex: 6805 entries, 0 to 6804\n",
      "Data columns (total 2 columns):\n",
      " #   Column                 Non-Null Count  Dtype\n",
      "---  ------                 --------------  -----\n",
      " 0   contract_id            6805 non-null   int64\n",
      " 1   day_or_month_contract  6805 non-null   int64\n",
      "dtypes: int64(2)\n",
      "memory usage: 106.5 KB\n"
     ]
    },
    {
     "data": {
      "text/plain": [
       "None"
      ]
     },
     "metadata": {},
     "output_type": "display_data"
    },
    {
     "data": {
      "text/html": [
       "<div>\n",
       "<style scoped>\n",
       "    .dataframe tbody tr th:only-of-type {\n",
       "        vertical-align: middle;\n",
       "    }\n",
       "\n",
       "    .dataframe tbody tr th {\n",
       "        vertical-align: top;\n",
       "    }\n",
       "\n",
       "    .dataframe thead th {\n",
       "        text-align: right;\n",
       "    }\n",
       "</style>\n",
       "<table border=\"1\" class=\"dataframe\">\n",
       "  <thead>\n",
       "    <tr style=\"text-align: right;\">\n",
       "      <th></th>\n",
       "      <th>contract_id</th>\n",
       "      <th>day_or_month_contract</th>\n",
       "    </tr>\n",
       "  </thead>\n",
       "  <tbody>\n",
       "    <tr>\n",
       "      <th>0</th>\n",
       "      <td>7780</td>\n",
       "      <td>0</td>\n",
       "    </tr>\n",
       "    <tr>\n",
       "      <th>1</th>\n",
       "      <td>3996</td>\n",
       "      <td>0</td>\n",
       "    </tr>\n",
       "    <tr>\n",
       "      <th>2</th>\n",
       "      <td>7785</td>\n",
       "      <td>0</td>\n",
       "    </tr>\n",
       "    <tr>\n",
       "      <th>3</th>\n",
       "      <td>7794</td>\n",
       "      <td>0</td>\n",
       "    </tr>\n",
       "    <tr>\n",
       "      <th>4</th>\n",
       "      <td>7795</td>\n",
       "      <td>1</td>\n",
       "    </tr>\n",
       "  </tbody>\n",
       "</table>\n",
       "</div>"
      ],
      "text/plain": [
       "   contract_id  day_or_month_contract\n",
       "0         7780                      0\n",
       "1         3996                      0\n",
       "2         7785                      0\n",
       "3         7794                      0\n",
       "4         7795                      1"
      ]
     },
     "metadata": {},
     "output_type": "display_data"
    }
   ],
   "source": [
    "df_info(df_type_contract) # тип списания у пользователей, где: 1 - посуточная,0 - помесячная"
   ]
  },
  {
   "cell_type": "code",
   "execution_count": 13,
   "id": "a4ae9e47",
   "metadata": {},
   "outputs": [
    {
     "name": "stdout",
     "output_type": "stream",
     "text": [
      "<class 'pandas.core.frame.DataFrame'>\n",
      "RangeIndex: 810 entries, 0 to 809\n",
      "Data columns (total 2 columns):\n",
      " #   Column       Non-Null Count  Dtype\n",
      "---  ------       --------------  -----\n",
      " 0   contract_id  810 non-null    int64\n",
      " 1   blocked      810 non-null    int64\n",
      "dtypes: int64(2)\n",
      "memory usage: 12.8 KB\n"
     ]
    },
    {
     "data": {
      "text/plain": [
       "None"
      ]
     },
     "metadata": {},
     "output_type": "display_data"
    },
    {
     "data": {
      "text/html": [
       "<div>\n",
       "<style scoped>\n",
       "    .dataframe tbody tr th:only-of-type {\n",
       "        vertical-align: middle;\n",
       "    }\n",
       "\n",
       "    .dataframe tbody tr th {\n",
       "        vertical-align: top;\n",
       "    }\n",
       "\n",
       "    .dataframe thead th {\n",
       "        text-align: right;\n",
       "    }\n",
       "</style>\n",
       "<table border=\"1\" class=\"dataframe\">\n",
       "  <thead>\n",
       "    <tr style=\"text-align: right;\">\n",
       "      <th></th>\n",
       "      <th>contract_id</th>\n",
       "      <th>blocked</th>\n",
       "    </tr>\n",
       "  </thead>\n",
       "  <tbody>\n",
       "    <tr>\n",
       "      <th>0</th>\n",
       "      <td>3453</td>\n",
       "      <td>0</td>\n",
       "    </tr>\n",
       "    <tr>\n",
       "      <th>1</th>\n",
       "      <td>3454</td>\n",
       "      <td>0</td>\n",
       "    </tr>\n",
       "    <tr>\n",
       "      <th>2</th>\n",
       "      <td>3455</td>\n",
       "      <td>0</td>\n",
       "    </tr>\n",
       "    <tr>\n",
       "      <th>3</th>\n",
       "      <td>3456</td>\n",
       "      <td>0</td>\n",
       "    </tr>\n",
       "    <tr>\n",
       "      <th>4</th>\n",
       "      <td>3457</td>\n",
       "      <td>0</td>\n",
       "    </tr>\n",
       "  </tbody>\n",
       "</table>\n",
       "</div>"
      ],
      "text/plain": [
       "   contract_id  blocked\n",
       "0         3453        0\n",
       "1         3454        0\n",
       "2         3455        0\n",
       "3         3456        0\n",
       "4         3457        0"
      ]
     },
     "metadata": {},
     "output_type": "display_data"
    }
   ],
   "source": [
    "df_info(df_sample_solution) # пример файла для отправки, id юзеров для тестовой выборки"
   ]
  },
  {
   "cell_type": "markdown",
   "id": "218af336",
   "metadata": {},
   "source": [
    "В исходных датасетах пропусков нет"
   ]
  },
  {
   "cell_type": "markdown",
   "id": "bbfef60c",
   "metadata": {},
   "source": [
    "### Узнаем размерность наборов"
   ]
  },
  {
   "cell_type": "code",
   "execution_count": 14,
   "id": "9ff11dc8",
   "metadata": {},
   "outputs": [
    {
     "name": "stdout",
     "output_type": "stream",
     "text": [
      "df_train (5992, 2)\n",
      "df_named (10646537, 3)\n",
      "df_sample_solution (810, 2)\n",
      "df_type_contract (6805, 2)\n",
      "df_log (25274, 3)\n"
     ]
    }
   ],
   "source": [
    "print(\"df_train\", df_train.shape)\n",
    "print(\"df_named\", df_named.shape)\n",
    "print(\"df_sample_solution\", df_sample_solution.shape)\n",
    "print(\"df_type_contract\", df_type_contract.shape)\n",
    "print(\"df_log\", df_log.shape)"
   ]
  },
  {
   "cell_type": "markdown",
   "id": "6f019737",
   "metadata": {},
   "source": [
    "### Создадим датасет для тестовой выборки"
   ]
  },
  {
   "cell_type": "code",
   "execution_count": 15,
   "id": "9023733e",
   "metadata": {},
   "outputs": [
    {
     "data": {
      "text/html": [
       "<div>\n",
       "<style scoped>\n",
       "    .dataframe tbody tr th:only-of-type {\n",
       "        vertical-align: middle;\n",
       "    }\n",
       "\n",
       "    .dataframe tbody tr th {\n",
       "        vertical-align: top;\n",
       "    }\n",
       "\n",
       "    .dataframe thead th {\n",
       "        text-align: right;\n",
       "    }\n",
       "</style>\n",
       "<table border=\"1\" class=\"dataframe\">\n",
       "  <thead>\n",
       "    <tr style=\"text-align: right;\">\n",
       "      <th></th>\n",
       "      <th>contract_id</th>\n",
       "      <th>blocked</th>\n",
       "    </tr>\n",
       "  </thead>\n",
       "  <tbody>\n",
       "    <tr>\n",
       "      <th>0</th>\n",
       "      <td>3453</td>\n",
       "      <td>0</td>\n",
       "    </tr>\n",
       "    <tr>\n",
       "      <th>1</th>\n",
       "      <td>3454</td>\n",
       "      <td>0</td>\n",
       "    </tr>\n",
       "    <tr>\n",
       "      <th>2</th>\n",
       "      <td>3455</td>\n",
       "      <td>0</td>\n",
       "    </tr>\n",
       "    <tr>\n",
       "      <th>3</th>\n",
       "      <td>3456</td>\n",
       "      <td>0</td>\n",
       "    </tr>\n",
       "    <tr>\n",
       "      <th>4</th>\n",
       "      <td>3457</td>\n",
       "      <td>0</td>\n",
       "    </tr>\n",
       "  </tbody>\n",
       "</table>\n",
       "</div>"
      ],
      "text/plain": [
       "   contract_id  blocked\n",
       "0         3453        0\n",
       "1         3454        0\n",
       "2         3455        0\n",
       "3         3456        0\n",
       "4         3457        0"
      ]
     },
     "execution_count": 15,
     "metadata": {},
     "output_type": "execute_result"
    }
   ],
   "source": [
    "df_test = df_sample_solution\n",
    "df_test.head()"
   ]
  },
  {
   "cell_type": "markdown",
   "id": "52dc73ef",
   "metadata": {},
   "source": [
    "### Исследуем баланс классов"
   ]
  },
  {
   "cell_type": "code",
   "execution_count": 16,
   "id": "0ff909c0",
   "metadata": {},
   "outputs": [
    {
     "data": {
      "text/plain": [
       "0    0.883511\n",
       "1    0.116489\n",
       "Name: blocked, dtype: float64"
      ]
     },
     "execution_count": 16,
     "metadata": {},
     "output_type": "execute_result"
    }
   ],
   "source": [
    "# распределение классов по целевому признаку\n",
    "df_train['blocked'].value_counts(normalize='bool')"
   ]
  },
  {
   "cell_type": "code",
   "execution_count": 17,
   "id": "20a4ac73",
   "metadata": {},
   "outputs": [
    {
     "data": {
      "image/png": "[encoded data removed]",
      "text/plain": [
       "<Figure size 360x288 with 1 Axes>"
      ]
     },
     "metadata": {
      "needs_background": "light"
     },
     "output_type": "display_data"
    }
   ],
   "source": [
    "plt.figure(figsize=(5,4))\n",
    "sns.countplot(data=df_train, x=\"blocked\")\n",
    "plt.title('Баланс классов в тренировочном датасете')\n",
    "plt.xlabel('blocked')\n",
    "plt.ylabel('count')\n",
    "plt.show()"
   ]
  },
  {
   "cell_type": "markdown",
   "id": "f3ac24e6",
   "metadata": {},
   "source": [
    "Классы несбалансированы по целевому признаку."
   ]
  },
  {
   "cell_type": "markdown",
   "id": "687ee70f",
   "metadata": {},
   "source": [
    "11.6% пользователей отказались от услуг оператора."
   ]
  },
  {
   "cell_type": "markdown",
   "id": "adda6fd5",
   "metadata": {},
   "source": [
    "### Видоизмение данных (добавление и исследование признаков)"
   ]
  },
  {
   "cell_type": "markdown",
   "id": "ed1f3dbe",
   "metadata": {},
   "source": [
    "#### Тип списания"
   ]
  },
  {
   "cell_type": "markdown",
   "id": "6034b51f",
   "metadata": {
    "id": "96OuAK1rBBTK"
   },
   "source": [
    "Обьединим два набора с данными. Для каждого пользователя добавим информацию по типу списания оплаты (1 - посуточная, 0 - помесячная)."
   ]
  },
  {
   "cell_type": "code",
   "execution_count": 18,
   "id": "4338c629",
   "metadata": {
    "colab": {
     "base_uri": "https://localhost:8080/",
     "height": 143
    },
    "id": "SsXefQu_558z",
    "outputId": "321a435b-6ddd-41cd-f109-7901d2b00421",
    "scrolled": true
   },
   "outputs": [
    {
     "data": {
      "text/html": [
       "<div>\n",
       "<style scoped>\n",
       "    .dataframe tbody tr th:only-of-type {\n",
       "        vertical-align: middle;\n",
       "    }\n",
       "\n",
       "    .dataframe tbody tr th {\n",
       "        vertical-align: top;\n",
       "    }\n",
       "\n",
       "    .dataframe thead th {\n",
       "        text-align: right;\n",
       "    }\n",
       "</style>\n",
       "<table border=\"1\" class=\"dataframe\">\n",
       "  <thead>\n",
       "    <tr style=\"text-align: right;\">\n",
       "      <th></th>\n",
       "      <th>contract_id</th>\n",
       "      <th>blocked</th>\n",
       "      <th>day_or_month_contract</th>\n",
       "    </tr>\n",
       "  </thead>\n",
       "  <tbody>\n",
       "    <tr>\n",
       "      <th>0</th>\n",
       "      <td>7780</td>\n",
       "      <td>0</td>\n",
       "      <td>0.0</td>\n",
       "    </tr>\n",
       "    <tr>\n",
       "      <th>1</th>\n",
       "      <td>7785</td>\n",
       "      <td>0</td>\n",
       "      <td>0.0</td>\n",
       "    </tr>\n",
       "    <tr>\n",
       "      <th>2</th>\n",
       "      <td>7794</td>\n",
       "      <td>0</td>\n",
       "      <td>0.0</td>\n",
       "    </tr>\n",
       "  </tbody>\n",
       "</table>\n",
       "</div>"
      ],
      "text/plain": [
       "   contract_id  blocked  day_or_month_contract\n",
       "0         7780        0                    0.0\n",
       "1         7785        0                    0.0\n",
       "2         7794        0                    0.0"
      ]
     },
     "execution_count": 18,
     "metadata": {},
     "output_type": "execute_result"
    }
   ],
   "source": [
    "df_train = pd.merge(df_train, df_type_contract , on=\"contract_id\", how='left').drop_duplicates(subset=\"contract_id\")\n",
    "df_test = pd.merge(df_test, df_type_contract , on=\"contract_id\", how='left').drop_duplicates(subset=\"contract_id\")\n",
    "\n",
    "df_train.head(3)"
   ]
  },
  {
   "cell_type": "code",
   "execution_count": 19,
   "id": "34b5fb21",
   "metadata": {},
   "outputs": [
    {
     "data": {
      "text/plain": [
       "0.0    0.568614\n",
       "1.0    0.431386\n",
       "Name: day_or_month_contract, dtype: float64"
      ]
     },
     "execution_count": 19,
     "metadata": {},
     "output_type": "execute_result"
    }
   ],
   "source": [
    "# распределение классов по типу списания оплты\n",
    "df_train['day_or_month_contract'].value_counts(normalize='bool')"
   ]
  },
  {
   "cell_type": "code",
   "execution_count": 20,
   "id": "0e33d2a7",
   "metadata": {},
   "outputs": [
    {
     "data": {
      "image/png": "[encoded data removed]",
      "text/plain": [
       "<Figure size 1080x360 with 1 Axes>"
      ]
     },
     "metadata": {
      "needs_background": "light"
     },
     "output_type": "display_data"
    }
   ],
   "source": [
    "df_countplot(df_train, 'day_or_month_contract', 'blocked')"
   ]
  },
  {
   "cell_type": "markdown",
   "id": "a0d281f1",
   "metadata": {},
   "source": [
    "57% пользователей платят за услуги раз в месяц, 43% пользователя должны оплачивать услуги ежедневно."
   ]
  },
  {
   "cell_type": "markdown",
   "id": "ecc5d250",
   "metadata": {},
   "source": [
    "Среди обеих групп целевых пользователей преобладают пользователи с ежемесячными списаниями."
   ]
  },
  {
   "cell_type": "code",
   "execution_count": 21,
   "id": "b76c001e",
   "metadata": {},
   "outputs": [],
   "source": [
    "df_train = df_train.fillna(0)\n",
    "df_test = df_test.fillna(0)"
   ]
  },
  {
   "cell_type": "markdown",
   "id": "c1e7e3e2",
   "metadata": {},
   "source": [
    "#### Количество обращений (число дней обращений и число типов обращений)"
   ]
  },
  {
   "cell_type": "markdown",
   "id": "0450e38e",
   "metadata": {},
   "source": [
    "Преобразуем время обращения, оставиви только дату."
   ]
  },
  {
   "cell_type": "code",
   "execution_count": 22,
   "id": "8d6ea07b",
   "metadata": {},
   "outputs": [
    {
     "data": {
      "text/html": [
       "<div>\n",
       "<style scoped>\n",
       "    .dataframe tbody tr th:only-of-type {\n",
       "        vertical-align: middle;\n",
       "    }\n",
       "\n",
       "    .dataframe tbody tr th {\n",
       "        vertical-align: top;\n",
       "    }\n",
       "\n",
       "    .dataframe thead th {\n",
       "        text-align: right;\n",
       "    }\n",
       "</style>\n",
       "<table border=\"1\" class=\"dataframe\">\n",
       "  <thead>\n",
       "    <tr style=\"text-align: right;\">\n",
       "      <th></th>\n",
       "      <th>contract_id</th>\n",
       "      <th>event_date</th>\n",
       "      <th>event_type</th>\n",
       "      <th>cnt_date</th>\n",
       "    </tr>\n",
       "  </thead>\n",
       "  <tbody>\n",
       "    <tr>\n",
       "      <th>0</th>\n",
       "      <td>36294</td>\n",
       "      <td>2021-03-28 16:24:30</td>\n",
       "      <td>Добавление в Обращались с номеров</td>\n",
       "      <td>2021-03-28</td>\n",
       "    </tr>\n",
       "    <tr>\n",
       "      <th>1</th>\n",
       "      <td>36294</td>\n",
       "      <td>2021-03-28 16:27:41</td>\n",
       "      <td>Обращение в службу заботы о клиентах</td>\n",
       "      <td>2021-03-28</td>\n",
       "    </tr>\n",
       "    <tr>\n",
       "      <th>2</th>\n",
       "      <td>36294</td>\n",
       "      <td>2021-03-28 16:29:56</td>\n",
       "      <td>Выключение IPTV-пакета</td>\n",
       "      <td>2021-03-28</td>\n",
       "    </tr>\n",
       "    <tr>\n",
       "      <th>3</th>\n",
       "      <td>36294</td>\n",
       "      <td>2021-03-28 16:29:56</td>\n",
       "      <td>Включение IPTV-пакета</td>\n",
       "      <td>2021-03-28</td>\n",
       "    </tr>\n",
       "    <tr>\n",
       "      <th>4</th>\n",
       "      <td>36294</td>\n",
       "      <td>2021-03-28 16:35:04</td>\n",
       "      <td>Обращение в службу заботы о клиентах</td>\n",
       "      <td>2021-03-28</td>\n",
       "    </tr>\n",
       "  </tbody>\n",
       "</table>\n",
       "</div>"
      ],
      "text/plain": [
       "   contract_id           event_date                            event_type  \\\n",
       "0        36294  2021-03-28 16:24:30     Добавление в Обращались с номеров   \n",
       "1        36294  2021-03-28 16:27:41  Обращение в службу заботы о клиентах   \n",
       "2        36294  2021-03-28 16:29:56                Выключение IPTV-пакета   \n",
       "3        36294  2021-03-28 16:29:56                 Включение IPTV-пакета   \n",
       "4        36294  2021-03-28 16:35:04  Обращение в службу заботы о клиентах   \n",
       "\n",
       "     cnt_date  \n",
       "0  2021-03-28  \n",
       "1  2021-03-28  \n",
       "2  2021-03-28  \n",
       "3  2021-03-28  \n",
       "4  2021-03-28  "
      ]
     },
     "execution_count": 22,
     "metadata": {},
     "output_type": "execute_result"
    }
   ],
   "source": [
    "df_log['cnt_date'] = pd.to_datetime(df_log['event_date']).dt.date\n",
    "df_log.head()"
   ]
  },
  {
   "cell_type": "code",
   "execution_count": 23,
   "id": "1b4965eb",
   "metadata": {},
   "outputs": [
    {
     "data": {
      "text/html": [
       "<div>\n",
       "<style scoped>\n",
       "    .dataframe tbody tr th:only-of-type {\n",
       "        vertical-align: middle;\n",
       "    }\n",
       "\n",
       "    .dataframe tbody tr th {\n",
       "        vertical-align: top;\n",
       "    }\n",
       "\n",
       "    .dataframe thead th {\n",
       "        text-align: right;\n",
       "    }\n",
       "</style>\n",
       "<table border=\"1\" class=\"dataframe\">\n",
       "  <thead>\n",
       "    <tr style=\"text-align: right;\">\n",
       "      <th></th>\n",
       "      <th>cnt_contacting</th>\n",
       "    </tr>\n",
       "    <tr>\n",
       "      <th>contract_id</th>\n",
       "      <th></th>\n",
       "    </tr>\n",
       "  </thead>\n",
       "  <tbody>\n",
       "    <tr>\n",
       "      <th>3453</th>\n",
       "      <td>1</td>\n",
       "    </tr>\n",
       "    <tr>\n",
       "      <th>3454</th>\n",
       "      <td>1</td>\n",
       "    </tr>\n",
       "    <tr>\n",
       "      <th>3456</th>\n",
       "      <td>4</td>\n",
       "    </tr>\n",
       "    <tr>\n",
       "      <th>3457</th>\n",
       "      <td>4</td>\n",
       "    </tr>\n",
       "    <tr>\n",
       "      <th>3458</th>\n",
       "      <td>23</td>\n",
       "    </tr>\n",
       "  </tbody>\n",
       "</table>\n",
       "</div>"
      ],
      "text/plain": [
       "             cnt_contacting\n",
       "contract_id                \n",
       "3453                      1\n",
       "3454                      1\n",
       "3456                      4\n",
       "3457                      4\n",
       "3458                     23"
      ]
     },
     "metadata": {},
     "output_type": "display_data"
    },
    {
     "data": {
      "image/png": "[encoded data removed]",
      "text/plain": [
       "<Figure size 1080x360 with 1 Axes>"
      ]
     },
     "metadata": {
      "needs_background": "light"
     },
     "output_type": "display_data"
    }
   ],
   "source": [
    "count_log = df_log.groupby(\"contract_id\").agg({'event_type':'count'})\n",
    "count_log = count_log.rename(columns={\"event_type\": \"cnt_contacting\"})\n",
    "display(count_log.head(5))\n",
    "boxplot(count_log['cnt_contacting'])"
   ]
  },
  {
   "cell_type": "markdown",
   "id": "7f6f0510",
   "metadata": {},
   "source": [
    "Видим длинные хвосты аномальных значений по числу обращений и числу дней обращений. Уберем из датасета аномальных пользователей.\n",
    "\n",
    "Добавим признак в датасеты."
   ]
  },
  {
   "cell_type": "code",
   "execution_count": 24,
   "id": "e8103925",
   "metadata": {},
   "outputs": [],
   "source": [
    "df_train = pd.merge(df_train, count_log , on=\"contract_id\", how='left')\n",
    "df_test = pd.merge(df_test, count_log , on=\"contract_id\", how='left')"
   ]
  },
  {
   "cell_type": "code",
   "execution_count": 25,
   "id": "2ffcc088",
   "metadata": {},
   "outputs": [],
   "source": [
    "# пропуски заполним нулями\n",
    "df_train = df_train.fillna(0)\n",
    "df_test = df_test.fillna(0)"
   ]
  },
  {
   "cell_type": "markdown",
   "id": "f1f4b022",
   "metadata": {},
   "source": [
    "Удалим пользователей с аномальными значениями из тренировочного датасета."
   ]
  },
  {
   "cell_type": "code",
   "execution_count": 26,
   "id": "46888016",
   "metadata": {},
   "outputs": [
    {
     "data": {
      "text/plain": [
       "array([14.])"
      ]
     },
     "execution_count": 26,
     "metadata": {},
     "output_type": "execute_result"
    }
   ],
   "source": [
    "np.percentile(df_train['cnt_contacting'], [95])"
   ]
  },
  {
   "cell_type": "code",
   "execution_count": 27,
   "id": "38758011",
   "metadata": {},
   "outputs": [
    {
     "data": {
      "text/plain": [
       "5726"
      ]
     },
     "execution_count": 27,
     "metadata": {},
     "output_type": "execute_result"
    }
   ],
   "source": [
    "df_train = df_train[df_train['cnt_contacting'] <=14]\n",
    "len(df_train)"
   ]
  },
  {
   "cell_type": "markdown",
   "id": "71ad2e81",
   "metadata": {},
   "source": [
    "### Поводы обращений пользователей"
   ]
  },
  {
   "cell_type": "code",
   "execution_count": 28,
   "id": "8d48fa83",
   "metadata": {},
   "outputs": [],
   "source": [
    "df_log2 = pd.merge(df_log, df_train[['blocked', 'contract_id']] , on=\"contract_id\", how='left')\n",
    "df_log4 = df_log2.groupby(['event_type', 'blocked'],as_index=False)['contract_id'].count()"
   ]
  },
  {
   "cell_type": "code",
   "execution_count": 29,
   "id": "1c9ea36e",
   "metadata": {},
   "outputs": [
    {
     "data": {
      "text/html": [
       "<div>\n",
       "<style scoped>\n",
       "    .dataframe tbody tr th:only-of-type {\n",
       "        vertical-align: middle;\n",
       "    }\n",
       "\n",
       "    .dataframe tbody tr th {\n",
       "        vertical-align: top;\n",
       "    }\n",
       "\n",
       "    .dataframe thead th {\n",
       "        text-align: right;\n",
       "    }\n",
       "</style>\n",
       "<table border=\"1\" class=\"dataframe\">\n",
       "  <thead>\n",
       "    <tr style=\"text-align: right;\">\n",
       "      <th></th>\n",
       "      <th>event_type</th>\n",
       "      <th>blocked</th>\n",
       "      <th>contract_id</th>\n",
       "    </tr>\n",
       "  </thead>\n",
       "  <tbody>\n",
       "    <tr>\n",
       "      <th>9</th>\n",
       "      <td>Без границ бесплатно. Включение</td>\n",
       "      <td>0.0</td>\n",
       "      <td>11</td>\n",
       "    </tr>\n",
       "    <tr>\n",
       "      <th>10</th>\n",
       "      <td>Без границ бесплатно. Включение</td>\n",
       "      <td>1.0</td>\n",
       "      <td>3</td>\n",
       "    </tr>\n",
       "    <tr>\n",
       "      <th>12</th>\n",
       "      <td>Без границ платно. Включение</td>\n",
       "      <td>0.0</td>\n",
       "      <td>5</td>\n",
       "    </tr>\n",
       "    <tr>\n",
       "      <th>16</th>\n",
       "      <td>Виртуальное бессмертие. Включение</td>\n",
       "      <td>0.0</td>\n",
       "      <td>3</td>\n",
       "    </tr>\n",
       "    <tr>\n",
       "      <th>18</th>\n",
       "      <td>Включена 10% скидка</td>\n",
       "      <td>0.0</td>\n",
       "      <td>12</td>\n",
       "    </tr>\n",
       "  </tbody>\n",
       "</table>\n",
       "</div>"
      ],
      "text/plain": [
       "                           event_type  blocked  contract_id\n",
       "9     Без границ бесплатно. Включение      0.0           11\n",
       "10    Без границ бесплатно. Включение      1.0            3\n",
       "12       Без границ платно. Включение      0.0            5\n",
       "16  Виртуальное бессмертие. Включение      0.0            3\n",
       "18                Включена 10% скидка      0.0           12"
      ]
     },
     "execution_count": 29,
     "metadata": {},
     "output_type": "execute_result"
    }
   ],
   "source": [
    "df_log4[df_log4['event_type'].str.contains(\"Вкл\")].head()"
   ]
  },
  {
   "cell_type": "code",
   "execution_count": 30,
   "id": "725d2b0b",
   "metadata": {},
   "outputs": [
    {
     "data": {
      "text/html": [
       "<div>\n",
       "<style scoped>\n",
       "    .dataframe tbody tr th:only-of-type {\n",
       "        vertical-align: middle;\n",
       "    }\n",
       "\n",
       "    .dataframe tbody tr th {\n",
       "        vertical-align: top;\n",
       "    }\n",
       "\n",
       "    .dataframe thead th {\n",
       "        text-align: right;\n",
       "    }\n",
       "</style>\n",
       "<table border=\"1\" class=\"dataframe\">\n",
       "  <thead>\n",
       "    <tr style=\"text-align: right;\">\n",
       "      <th></th>\n",
       "      <th>event_type</th>\n",
       "      <th>blocked</th>\n",
       "      <th>contract_id</th>\n",
       "    </tr>\n",
       "  </thead>\n",
       "  <tbody>\n",
       "    <tr>\n",
       "      <th>11</th>\n",
       "      <td>Без границ бесплатно. Отключение</td>\n",
       "      <td>0.0</td>\n",
       "      <td>11</td>\n",
       "    </tr>\n",
       "    <tr>\n",
       "      <th>13</th>\n",
       "      <td>Без границ платно. Отключение</td>\n",
       "      <td>0.0</td>\n",
       "      <td>3</td>\n",
       "    </tr>\n",
       "    <tr>\n",
       "      <th>76</th>\n",
       "      <td>Отключение автоматической активации ГП</td>\n",
       "      <td>0.0</td>\n",
       "      <td>2</td>\n",
       "    </tr>\n",
       "    <tr>\n",
       "      <th>77</th>\n",
       "      <td>Отключение скидки</td>\n",
       "      <td>0.0</td>\n",
       "      <td>1</td>\n",
       "    </tr>\n",
       "    <tr>\n",
       "      <th>78</th>\n",
       "      <td>Отключение скидки</td>\n",
       "      <td>1.0</td>\n",
       "      <td>1</td>\n",
       "    </tr>\n",
       "  </tbody>\n",
       "</table>\n",
       "</div>"
      ],
      "text/plain": [
       "                                event_type  blocked  contract_id\n",
       "11        Без границ бесплатно. Отключение      0.0           11\n",
       "13           Без границ платно. Отключение      0.0            3\n",
       "76  Отключение автоматической активации ГП      0.0            2\n",
       "77                       Отключение скидки      0.0            1\n",
       "78                       Отключение скидки      1.0            1"
      ]
     },
     "execution_count": 30,
     "metadata": {},
     "output_type": "execute_result"
    }
   ],
   "source": [
    "df_log4[df_log4['event_type'].str.contains(\"Откл\")].head()"
   ]
  },
  {
   "cell_type": "markdown",
   "id": "de15d6cc",
   "metadata": {},
   "source": [
    "Добавим признак  - включали / отключали услугу"
   ]
  },
  {
   "cell_type": "code",
   "execution_count": 31,
   "id": "97d23980",
   "metadata": {},
   "outputs": [],
   "source": [
    "df_log5 = df_log[df_log['event_type'].str.contains(\"Откл\")]\n",
    "df_log6 = df_log[df_log['event_type'].str.contains(\"Вкл\")]"
   ]
  },
  {
   "cell_type": "code",
   "execution_count": 32,
   "id": "7a81a993",
   "metadata": {},
   "outputs": [],
   "source": [
    "df_log5 = df_log5.groupby(['contract_id'])['event_type'].count().reset_index().rename(columns={\"event_type\": \"cnt_off\"})\n",
    "df_log6 = df_log6.groupby(['contract_id'])['event_type'].count().reset_index().rename(columns={\"event_type\": \"cnt_on\"})"
   ]
  },
  {
   "cell_type": "code",
   "execution_count": 33,
   "id": "37c6202d",
   "metadata": {},
   "outputs": [],
   "source": [
    "df_train = pd.merge(df_train, df_log5 , on=\"contract_id\", how='left')\n",
    "df_test = pd.merge(df_test, df_log5 , on=\"contract_id\", how='left')\n",
    "\n",
    "df_train = pd.merge(df_train, df_log6 , on=\"contract_id\", how='left')\n",
    "df_test = pd.merge(df_test, df_log6 , on=\"contract_id\", how='left')"
   ]
  },
  {
   "cell_type": "code",
   "execution_count": 34,
   "id": "8990125d",
   "metadata": {},
   "outputs": [
    {
     "data": {
      "text/html": [
       "<div>\n",
       "<style scoped>\n",
       "    .dataframe tbody tr th:only-of-type {\n",
       "        vertical-align: middle;\n",
       "    }\n",
       "\n",
       "    .dataframe tbody tr th {\n",
       "        vertical-align: top;\n",
       "    }\n",
       "\n",
       "    .dataframe thead th {\n",
       "        text-align: right;\n",
       "    }\n",
       "</style>\n",
       "<table border=\"1\" class=\"dataframe\">\n",
       "  <thead>\n",
       "    <tr style=\"text-align: right;\">\n",
       "      <th></th>\n",
       "      <th>contract_id</th>\n",
       "      <th>blocked</th>\n",
       "      <th>day_or_month_contract</th>\n",
       "      <th>cnt_contacting</th>\n",
       "      <th>cnt_off</th>\n",
       "      <th>cnt_on</th>\n",
       "    </tr>\n",
       "  </thead>\n",
       "  <tbody>\n",
       "    <tr>\n",
       "      <th>0</th>\n",
       "      <td>7780</td>\n",
       "      <td>0</td>\n",
       "      <td>0.0</td>\n",
       "      <td>9.0</td>\n",
       "      <td>1.0</td>\n",
       "      <td>NaN</td>\n",
       "    </tr>\n",
       "    <tr>\n",
       "      <th>1</th>\n",
       "      <td>7785</td>\n",
       "      <td>0</td>\n",
       "      <td>0.0</td>\n",
       "      <td>1.0</td>\n",
       "      <td>NaN</td>\n",
       "      <td>NaN</td>\n",
       "    </tr>\n",
       "    <tr>\n",
       "      <th>2</th>\n",
       "      <td>7794</td>\n",
       "      <td>0</td>\n",
       "      <td>0.0</td>\n",
       "      <td>0.0</td>\n",
       "      <td>NaN</td>\n",
       "      <td>NaN</td>\n",
       "    </tr>\n",
       "    <tr>\n",
       "      <th>3</th>\n",
       "      <td>7795</td>\n",
       "      <td>0</td>\n",
       "      <td>1.0</td>\n",
       "      <td>7.0</td>\n",
       "      <td>NaN</td>\n",
       "      <td>4.0</td>\n",
       "    </tr>\n",
       "    <tr>\n",
       "      <th>4</th>\n",
       "      <td>7798</td>\n",
       "      <td>0</td>\n",
       "      <td>0.0</td>\n",
       "      <td>3.0</td>\n",
       "      <td>NaN</td>\n",
       "      <td>NaN</td>\n",
       "    </tr>\n",
       "  </tbody>\n",
       "</table>\n",
       "</div>"
      ],
      "text/plain": [
       "   contract_id  blocked  day_or_month_contract  cnt_contacting  cnt_off  \\\n",
       "0         7780        0                    0.0             9.0      1.0   \n",
       "1         7785        0                    0.0             1.0      NaN   \n",
       "2         7794        0                    0.0             0.0      NaN   \n",
       "3         7795        0                    1.0             7.0      NaN   \n",
       "4         7798        0                    0.0             3.0      NaN   \n",
       "\n",
       "   cnt_on  \n",
       "0     NaN  \n",
       "1     NaN  \n",
       "2     NaN  \n",
       "3     4.0  \n",
       "4     NaN  "
      ]
     },
     "execution_count": 34,
     "metadata": {},
     "output_type": "execute_result"
    }
   ],
   "source": [
    "df_train.head()"
   ]
  },
  {
   "cell_type": "code",
   "execution_count": 35,
   "id": "7105bbdf",
   "metadata": {},
   "outputs": [],
   "source": [
    "# пропуски заполним нулями\n",
    "df_train = df_train.fillna(0)\n",
    "df_test = df_test.fillna(0)"
   ]
  },
  {
   "cell_type": "code",
   "execution_count": 36,
   "id": "e5d6344c",
   "metadata": {},
   "outputs": [
    {
     "name": "stdout",
     "output_type": "stream",
     "text": [
      "5726\n",
      "810\n"
     ]
    }
   ],
   "source": [
    "print(len(df_train))\n",
    "print(len(df_test))"
   ]
  },
  {
   "cell_type": "markdown",
   "id": "04a7ec69",
   "metadata": {},
   "source": [
    "### Поводы обращения"
   ]
  },
  {
   "cell_type": "code",
   "execution_count": 37,
   "id": "1c1a5ebe",
   "metadata": {},
   "outputs": [
    {
     "data": {
      "text/html": [
       "<div>\n",
       "<style scoped>\n",
       "    .dataframe tbody tr th:only-of-type {\n",
       "        vertical-align: middle;\n",
       "    }\n",
       "\n",
       "    .dataframe tbody tr th {\n",
       "        vertical-align: top;\n",
       "    }\n",
       "\n",
       "    .dataframe thead th {\n",
       "        text-align: right;\n",
       "    }\n",
       "</style>\n",
       "<table border=\"1\" class=\"dataframe\">\n",
       "  <thead>\n",
       "    <tr style=\"text-align: right;\">\n",
       "      <th></th>\n",
       "      <th>event_type</th>\n",
       "      <th>blocked</th>\n",
       "      <th>contract_id</th>\n",
       "    </tr>\n",
       "  </thead>\n",
       "  <tbody>\n",
       "    <tr>\n",
       "      <th>67</th>\n",
       "      <td>Информер ВК. Показ</td>\n",
       "      <td>1.0</td>\n",
       "      <td>558</td>\n",
       "    </tr>\n",
       "    <tr>\n",
       "      <th>72</th>\n",
       "      <td>Обращение в службу заботы о клиентах</td>\n",
       "      <td>1.0</td>\n",
       "      <td>374</td>\n",
       "    </tr>\n",
       "    <tr>\n",
       "      <th>29</th>\n",
       "      <td>Включение интернета на 20 минут</td>\n",
       "      <td>1.0</td>\n",
       "      <td>315</td>\n",
       "    </tr>\n",
       "    <tr>\n",
       "      <th>49</th>\n",
       "      <td>Гарантированный платеж за деньги</td>\n",
       "      <td>1.0</td>\n",
       "      <td>206</td>\n",
       "    </tr>\n",
       "    <tr>\n",
       "      <th>70</th>\n",
       "      <td>Оборудование</td>\n",
       "      <td>1.0</td>\n",
       "      <td>66</td>\n",
       "    </tr>\n",
       "    <tr>\n",
       "      <th>41</th>\n",
       "      <td>Внутреннее сообщение</td>\n",
       "      <td>1.0</td>\n",
       "      <td>61</td>\n",
       "    </tr>\n",
       "    <tr>\n",
       "      <th>31</th>\n",
       "      <td>Включение интернета на 20 минут с IVR</td>\n",
       "      <td>1.0</td>\n",
       "      <td>56</td>\n",
       "    </tr>\n",
       "  </tbody>\n",
       "</table>\n",
       "</div>"
      ],
      "text/plain": [
       "                               event_type  blocked  contract_id\n",
       "67                     Информер ВК. Показ      1.0          558\n",
       "72   Обращение в службу заботы о клиентах      1.0          374\n",
       "29        Включение интернета на 20 минут      1.0          315\n",
       "49       Гарантированный платеж за деньги      1.0          206\n",
       "70                           Оборудование      1.0           66\n",
       "41                   Внутреннее сообщение      1.0           61\n",
       "31  Включение интернета на 20 минут с IVR      1.0           56"
      ]
     },
     "execution_count": 37,
     "metadata": {},
     "output_type": "execute_result"
    }
   ],
   "source": [
    "df_log4[df_log4['blocked']==1].sort_values(by='contract_id', ascending=False).head(7)"
   ]
  },
  {
   "cell_type": "code",
   "execution_count": 38,
   "id": "00b7d2b8",
   "metadata": {},
   "outputs": [
    {
     "data": {
      "text/html": [
       "<div>\n",
       "<style scoped>\n",
       "    .dataframe tbody tr th:only-of-type {\n",
       "        vertical-align: middle;\n",
       "    }\n",
       "\n",
       "    .dataframe tbody tr th {\n",
       "        vertical-align: top;\n",
       "    }\n",
       "\n",
       "    .dataframe thead th {\n",
       "        text-align: right;\n",
       "    }\n",
       "</style>\n",
       "<table border=\"1\" class=\"dataframe\">\n",
       "  <thead>\n",
       "    <tr style=\"text-align: right;\">\n",
       "      <th></th>\n",
       "      <th>event_type</th>\n",
       "      <th>blocked</th>\n",
       "      <th>contract_id</th>\n",
       "    </tr>\n",
       "  </thead>\n",
       "  <tbody>\n",
       "    <tr>\n",
       "      <th>66</th>\n",
       "      <td>Информер ВК. Показ</td>\n",
       "      <td>0.0</td>\n",
       "      <td>5414</td>\n",
       "    </tr>\n",
       "    <tr>\n",
       "      <th>28</th>\n",
       "      <td>Включение интернета на 20 минут</td>\n",
       "      <td>0.0</td>\n",
       "      <td>1857</td>\n",
       "    </tr>\n",
       "    <tr>\n",
       "      <th>71</th>\n",
       "      <td>Обращение в службу заботы о клиентах</td>\n",
       "      <td>0.0</td>\n",
       "      <td>1649</td>\n",
       "    </tr>\n",
       "    <tr>\n",
       "      <th>48</th>\n",
       "      <td>Гарантированный платеж за деньги</td>\n",
       "      <td>0.0</td>\n",
       "      <td>1192</td>\n",
       "    </tr>\n",
       "    <tr>\n",
       "      <th>136</th>\n",
       "      <td>Турбокнопка бесплатно</td>\n",
       "      <td>0.0</td>\n",
       "      <td>193</td>\n",
       "    </tr>\n",
       "    <tr>\n",
       "      <th>129</th>\n",
       "      <td>Смена тарифа</td>\n",
       "      <td>0.0</td>\n",
       "      <td>186</td>\n",
       "    </tr>\n",
       "    <tr>\n",
       "      <th>131</th>\n",
       "      <td>Состояние клиентского оборудования</td>\n",
       "      <td>0.0</td>\n",
       "      <td>169</td>\n",
       "    </tr>\n",
       "  </tbody>\n",
       "</table>\n",
       "</div>"
      ],
      "text/plain": [
       "                               event_type  blocked  contract_id\n",
       "66                     Информер ВК. Показ      0.0         5414\n",
       "28        Включение интернета на 20 минут      0.0         1857\n",
       "71   Обращение в службу заботы о клиентах      0.0         1649\n",
       "48       Гарантированный платеж за деньги      0.0         1192\n",
       "136                 Турбокнопка бесплатно      0.0          193\n",
       "129                          Смена тарифа      0.0          186\n",
       "131    Состояние клиентского оборудования      0.0          169"
      ]
     },
     "execution_count": 38,
     "metadata": {},
     "output_type": "execute_result"
    }
   ],
   "source": [
    "df_log4[df_log4['blocked']==0].sort_values(by='contract_id', ascending=False).head(7)"
   ]
  },
  {
   "cell_type": "code",
   "execution_count": 39,
   "id": "a15e8821",
   "metadata": {},
   "outputs": [],
   "source": [
    "log1 = df_log[df_log['event_type'].str.contains('Информер ВК. Показ')]\n",
    "log1['vk'] = 1\n",
    "log2 = log1.groupby(['contract_id'])['vk'].max().reset_index()\n",
    "df_train = pd.merge(df_train, log2, on=\"contract_id\", how='left')\n",
    "df_test = pd.merge(df_test, log2 , on=\"contract_id\", how='left')"
   ]
  },
  {
   "cell_type": "code",
   "execution_count": 40,
   "id": "01b700f5",
   "metadata": {},
   "outputs": [],
   "source": [
    "log1 = df_log[df_log['event_type'].str.contains('Обращение в службу заботы о клиентах')]\n",
    "log1['care'] = 1\n",
    "log2 = log1.groupby(['contract_id'])['care'].max().reset_index()\n",
    "df_train = pd.merge(df_train, log2, on=\"contract_id\", how='left')\n",
    "df_test = pd.merge(df_test, log2 , on=\"contract_id\", how='left')"
   ]
  },
  {
   "cell_type": "code",
   "execution_count": 41,
   "id": "5f245b57",
   "metadata": {},
   "outputs": [],
   "source": [
    "log1 = df_log[df_log['event_type'].str.contains('Гарантированный платеж за деньги')]\n",
    "log1['garant_pay'] = 1\n",
    "log2 = log1.groupby(['contract_id'])['garant_pay'].max().reset_index()\n",
    "df_train = pd.merge(df_train, log2, on=\"contract_id\", how='left')\n",
    "df_test = pd.merge(df_test, log2 , on=\"contract_id\", how='left')"
   ]
  },
  {
   "cell_type": "code",
   "execution_count": 42,
   "id": "b48ebaba",
   "metadata": {},
   "outputs": [],
   "source": [
    "log1 = df_log[df_log['event_type'].str.contains('Оборудование')]\n",
    "log1['equipment'] = 1\n",
    "log2 = log1.groupby(['contract_id'])['equipment'].max().reset_index()\n",
    "df_train = pd.merge(df_train, log2, on=\"contract_id\", how='left')\n",
    "df_test = pd.merge(df_test, log2 , on=\"contract_id\", how='left')"
   ]
  },
  {
   "cell_type": "code",
   "execution_count": 43,
   "id": "be493f47",
   "metadata": {},
   "outputs": [],
   "source": [
    "log1 = df_log[df_log['event_type'].str.contains('Турбокнопка платно')]\n",
    "log1['turbo'] = 1\n",
    "log2 = log1.groupby(['contract_id'])['turbo'].max().reset_index()\n",
    "df_train = pd.merge(df_train, log2 , on=\"contract_id\", how='left')\n",
    "df_test = pd.merge(df_test, log2 , on=\"contract_id\", how='left')"
   ]
  },
  {
   "cell_type": "code",
   "execution_count": 44,
   "id": "c069d4a2",
   "metadata": {},
   "outputs": [],
   "source": [
    "# пропуски заполним нулями\n",
    "df_train = df_train.fillna(0)\n",
    "df_test = df_test.fillna(0)"
   ]
  },
  {
   "cell_type": "code",
   "execution_count": 45,
   "id": "deda2041",
   "metadata": {},
   "outputs": [
    {
     "name": "stdout",
     "output_type": "stream",
     "text": [
      "5726\n",
      "810\n"
     ]
    }
   ],
   "source": [
    "print(len(df_train))\n",
    "print(len(df_test))"
   ]
  },
  {
   "cell_type": "markdown",
   "id": "42cdbc5e",
   "metadata": {},
   "source": [
    "### Логи запросов к доменам конкурентов"
   ]
  },
  {
   "cell_type": "code",
   "execution_count": 46,
   "id": "9ff84b68",
   "metadata": {},
   "outputs": [],
   "source": [
    "named = pd.merge(df_named, df_train[['blocked', 'contract_id']] , on=\"contract_id\", how='left')\n",
    "named = named.groupby(['url', 'blocked'],as_index=False)['contract_id'].count()"
   ]
  },
  {
   "cell_type": "code",
   "execution_count": 47,
   "id": "1f11aa1b",
   "metadata": {},
   "outputs": [
    {
     "data": {
      "text/html": [
       "<div>\n",
       "<style scoped>\n",
       "    .dataframe tbody tr th:only-of-type {\n",
       "        vertical-align: middle;\n",
       "    }\n",
       "\n",
       "    .dataframe tbody tr th {\n",
       "        vertical-align: top;\n",
       "    }\n",
       "\n",
       "    .dataframe thead th {\n",
       "        text-align: right;\n",
       "    }\n",
       "</style>\n",
       "<table border=\"1\" class=\"dataframe\">\n",
       "  <thead>\n",
       "    <tr style=\"text-align: right;\">\n",
       "      <th></th>\n",
       "      <th>url</th>\n",
       "      <th>blocked</th>\n",
       "      <th>contract_id</th>\n",
       "    </tr>\n",
       "  </thead>\n",
       "  <tbody>\n",
       "    <tr>\n",
       "      <th>572</th>\n",
       "      <td>vmx.svc.iptv.rt.ru</td>\n",
       "      <td>1.0</td>\n",
       "      <td>246</td>\n",
       "    </tr>\n",
       "    <tr>\n",
       "      <th>286</th>\n",
       "      <td>moigorod.sampo.ru</td>\n",
       "      <td>1.0</td>\n",
       "      <td>115</td>\n",
       "    </tr>\n",
       "    <tr>\n",
       "      <th>148</th>\n",
       "      <td>fnc.rt.ru</td>\n",
       "      <td>1.0</td>\n",
       "      <td>113</td>\n",
       "    </tr>\n",
       "    <tr>\n",
       "      <th>504</th>\n",
       "      <td>swap.sampo.ru</td>\n",
       "      <td>1.0</td>\n",
       "      <td>105</td>\n",
       "    </tr>\n",
       "    <tr>\n",
       "      <th>446</th>\n",
       "      <td>st44-broadcast.sampo.ru</td>\n",
       "      <td>1.0</td>\n",
       "      <td>105</td>\n",
       "    </tr>\n",
       "    <tr>\n",
       "      <th>399</th>\n",
       "      <td>sampo.ru</td>\n",
       "      <td>1.0</td>\n",
       "      <td>93</td>\n",
       "    </tr>\n",
       "    <tr>\n",
       "      <th>265</th>\n",
       "      <td>lk.sampo.ru</td>\n",
       "      <td>1.0</td>\n",
       "      <td>91</td>\n",
       "    </tr>\n",
       "    <tr>\n",
       "      <th>139</th>\n",
       "      <td>fe-nw.svc.iptv.rt.ru</td>\n",
       "      <td>1.0</td>\n",
       "      <td>87</td>\n",
       "    </tr>\n",
       "    <tr>\n",
       "      <th>388</th>\n",
       "      <td>rt-static.rt.ru</td>\n",
       "      <td>1.0</td>\n",
       "      <td>86</td>\n",
       "    </tr>\n",
       "    <tr>\n",
       "      <th>346</th>\n",
       "      <td>petrozavodsk.speedtest.rt.ru.prod.hosts.ooklas...</td>\n",
       "      <td>1.0</td>\n",
       "      <td>86</td>\n",
       "    </tr>\n",
       "  </tbody>\n",
       "</table>\n",
       "</div>"
      ],
      "text/plain": [
       "                                                   url  blocked  contract_id\n",
       "572                                 vmx.svc.iptv.rt.ru      1.0          246\n",
       "286                                  moigorod.sampo.ru      1.0          115\n",
       "148                                          fnc.rt.ru      1.0          113\n",
       "504                                      swap.sampo.ru      1.0          105\n",
       "446                            st44-broadcast.sampo.ru      1.0          105\n",
       "399                                           sampo.ru      1.0           93\n",
       "265                                        lk.sampo.ru      1.0           91\n",
       "139                               fe-nw.svc.iptv.rt.ru      1.0           87\n",
       "388                                    rt-static.rt.ru      1.0           86\n",
       "346  petrozavodsk.speedtest.rt.ru.prod.hosts.ooklas...      1.0           86"
      ]
     },
     "execution_count": 47,
     "metadata": {},
     "output_type": "execute_result"
    }
   ],
   "source": [
    "named[named['blocked']==1].sort_values(by=['contract_id'], ascending=False).head(10)"
   ]
  },
  {
   "cell_type": "code",
   "execution_count": 48,
   "id": "6afa7b57",
   "metadata": {},
   "outputs": [
    {
     "data": {
      "text/html": [
       "<div>\n",
       "<style scoped>\n",
       "    .dataframe tbody tr th:only-of-type {\n",
       "        vertical-align: middle;\n",
       "    }\n",
       "\n",
       "    .dataframe tbody tr th {\n",
       "        vertical-align: top;\n",
       "    }\n",
       "\n",
       "    .dataframe thead th {\n",
       "        text-align: right;\n",
       "    }\n",
       "</style>\n",
       "<table border=\"1\" class=\"dataframe\">\n",
       "  <thead>\n",
       "    <tr style=\"text-align: right;\">\n",
       "      <th></th>\n",
       "      <th>url</th>\n",
       "      <th>blocked</th>\n",
       "      <th>contract_id</th>\n",
       "    </tr>\n",
       "  </thead>\n",
       "  <tbody>\n",
       "    <tr>\n",
       "      <th>573</th>\n",
       "      <td>vmxott.svc.iptv.rt.ru</td>\n",
       "      <td>0.0</td>\n",
       "      <td>6857</td>\n",
       "    </tr>\n",
       "    <tr>\n",
       "      <th>285</th>\n",
       "      <td>moigorod.sampo.ru</td>\n",
       "      <td>0.0</td>\n",
       "      <td>5488</td>\n",
       "    </tr>\n",
       "    <tr>\n",
       "      <th>324</th>\n",
       "      <td>ohrana.sampo.ru</td>\n",
       "      <td>0.0</td>\n",
       "      <td>4704</td>\n",
       "    </tr>\n",
       "    <tr>\n",
       "      <th>445</th>\n",
       "      <td>st44-broadcast.sampo.ru</td>\n",
       "      <td>0.0</td>\n",
       "      <td>4643</td>\n",
       "    </tr>\n",
       "    <tr>\n",
       "      <th>147</th>\n",
       "      <td>fnc.rt.ru</td>\n",
       "      <td>0.0</td>\n",
       "      <td>4525</td>\n",
       "    </tr>\n",
       "    <tr>\n",
       "      <th>507</th>\n",
       "      <td>sz-mrsk-itv01.svc.iptv.rt.ru</td>\n",
       "      <td>0.0</td>\n",
       "      <td>4480</td>\n",
       "    </tr>\n",
       "    <tr>\n",
       "      <th>449</th>\n",
       "      <td>st46-broadcast.sampo.ru</td>\n",
       "      <td>0.0</td>\n",
       "      <td>3597</td>\n",
       "    </tr>\n",
       "    <tr>\n",
       "      <th>502</th>\n",
       "      <td>sus.sampo.ru</td>\n",
       "      <td>0.0</td>\n",
       "      <td>3205</td>\n",
       "    </tr>\n",
       "    <tr>\n",
       "      <th>566</th>\n",
       "      <td>vhod.sampo.ru</td>\n",
       "      <td>0.0</td>\n",
       "      <td>3021</td>\n",
       "    </tr>\n",
       "    <tr>\n",
       "      <th>508</th>\n",
       "      <td>sz-mrsk-itv02.svc.iptv.rt.ru</td>\n",
       "      <td>0.0</td>\n",
       "      <td>2968</td>\n",
       "    </tr>\n",
       "  </tbody>\n",
       "</table>\n",
       "</div>"
      ],
      "text/plain": [
       "                              url  blocked  contract_id\n",
       "573         vmxott.svc.iptv.rt.ru      0.0         6857\n",
       "285             moigorod.sampo.ru      0.0         5488\n",
       "324               ohrana.sampo.ru      0.0         4704\n",
       "445       st44-broadcast.sampo.ru      0.0         4643\n",
       "147                     fnc.rt.ru      0.0         4525\n",
       "507  sz-mrsk-itv01.svc.iptv.rt.ru      0.0         4480\n",
       "449       st46-broadcast.sampo.ru      0.0         3597\n",
       "502                  sus.sampo.ru      0.0         3205\n",
       "566                 vhod.sampo.ru      0.0         3021\n",
       "508  sz-mrsk-itv02.svc.iptv.rt.ru      0.0         2968"
      ]
     },
     "execution_count": 48,
     "metadata": {},
     "output_type": "execute_result"
    }
   ],
   "source": [
    "named[named['blocked']==0].sort_values(by=['contract_id'], ascending=False).head(10)"
   ]
  },
  {
   "cell_type": "code",
   "execution_count": 49,
   "id": "6d47e1cf",
   "metadata": {},
   "outputs": [],
   "source": [
    "name1 = df_named[df_named['url'].str.contains('iptv.rt.ru')]\n",
    "name1['iptv'] = 1\n",
    "name2 = name1.groupby(['contract_id'])['iptv'].max().reset_index()\n",
    "df_train = pd.merge(df_train, name2, on=\"contract_id\", how='left')\n",
    "df_test = pd.merge(df_test, name2 , on=\"contract_id\", how='left')"
   ]
  },
  {
   "cell_type": "code",
   "execution_count": 50,
   "id": "ad5e9c4d",
   "metadata": {},
   "outputs": [],
   "source": [
    "name1 = df_named[df_named['url'].str.contains('moigorod.sampo.ru')]\n",
    "name1['moigorod'] = 1\n",
    "name2 = name1.groupby(['contract_id'])['moigorod'].max().reset_index()\n",
    "df_train = pd.merge(df_train, name2, on=\"contract_id\", how='left')\n",
    "df_test = pd.merge(df_test, name2 , on=\"contract_id\", how='left')"
   ]
  },
  {
   "cell_type": "code",
   "execution_count": 51,
   "id": "79e67f73",
   "metadata": {},
   "outputs": [],
   "source": [
    "name1 = df_named[df_named['url'].str.contains('fnc.rt.ru')]\n",
    "name1['fnc'] = 1\n",
    "name2 = name1.groupby(['contract_id'])['fnc'].max().reset_index()\n",
    "df_train = pd.merge(df_train, name2, on=\"contract_id\", how='left')\n",
    "df_test = pd.merge(df_test, name2 , on=\"contract_id\", how='left')"
   ]
  },
  {
   "cell_type": "code",
   "execution_count": 52,
   "id": "59806d67",
   "metadata": {},
   "outputs": [],
   "source": [
    "name1 = df_named[df_named['url'].str.contains('swap.sampo.ru')]\n",
    "name1['swap'] = 1\n",
    "name2 = name1.groupby(['contract_id'])['swap'].max().reset_index()\n",
    "df_train = pd.merge(df_train, name2, on=\"contract_id\", how='left')\n",
    "df_test = pd.merge(df_test, name2 , on=\"contract_id\", how='left')"
   ]
  },
  {
   "cell_type": "code",
   "execution_count": 53,
   "id": "ba66e869",
   "metadata": {},
   "outputs": [],
   "source": [
    "name1 = df_named[df_named['url'].str.contains('ohrana.sampo.ru')]\n",
    "name1['ohrana'] = 1\n",
    "name2 = name1.groupby(['contract_id'])['ohrana'].max().reset_index()\n",
    "df_train = pd.merge(df_train, name2, on=\"contract_id\", how='left')\n",
    "df_test = pd.merge(df_test, name2 , on=\"contract_id\", how='left')"
   ]
  },
  {
   "cell_type": "code",
   "execution_count": 54,
   "id": "8aad4238",
   "metadata": {},
   "outputs": [],
   "source": [
    "name1 = df_named[df_named['url'].str.contains('broadcast.sampo.ru')]\n",
    "name1['broadcast'] = 1\n",
    "name2 = name1.groupby(['contract_id'])['broadcast'].max().reset_index()\n",
    "df_train = pd.merge(df_train, name2, on=\"contract_id\", how='left')\n",
    "df_test = pd.merge(df_test, name2 , on=\"contract_id\", how='left')"
   ]
  },
  {
   "cell_type": "code",
   "execution_count": 55,
   "id": "2cd08d2c",
   "metadata": {},
   "outputs": [],
   "source": [
    "name1 = df_named[df_named['url'].str.contains('speedtest')]\n",
    "name1['speedtest'] = 1\n",
    "name2 = name1.groupby(['contract_id'])['speedtest'].max().reset_index()\n",
    "df_train = pd.merge(df_train, name2, on=\"contract_id\", how='left')\n",
    "df_test = pd.merge(df_test, name2 , on=\"contract_id\", how='left')"
   ]
  },
  {
   "cell_type": "code",
   "execution_count": 56,
   "id": "eb312900",
   "metadata": {},
   "outputs": [
    {
     "name": "stdout",
     "output_type": "stream",
     "text": [
      "5726\n",
      "810\n"
     ]
    }
   ],
   "source": [
    "print(len(df_train))\n",
    "print(len(df_test))"
   ]
  },
  {
   "cell_type": "markdown",
   "id": "f2f4a9c1",
   "metadata": {},
   "source": [
    "#### К какому домену конкурентов обращались пользователи"
   ]
  },
  {
   "cell_type": "markdown",
   "id": "a1d7539c",
   "metadata": {},
   "source": [
    "Посмотрим к каким доменам обращались пользователи. Подсчитаем общее число обращений и число доменов, к которым пользователь обращался."
   ]
  },
  {
   "cell_type": "code",
   "execution_count": 57,
   "id": "e2e68ffc",
   "metadata": {},
   "outputs": [],
   "source": [
    "df_named['rt'] = np.where(df_named['url'].str.contains('.rt.'), 'rt', 'sampo')\n",
    "df_named['is_rt'] = np.where(df_named['url'].str.contains('.rt.'), 1, 0)\n",
    "df_named['is_sampo'] = np.where(df_named['url'].str.contains('.sampo.'), 1, 0)"
   ]
  },
  {
   "cell_type": "code",
   "execution_count": 58,
   "id": "ca7a85d5",
   "metadata": {},
   "outputs": [],
   "source": [
    "df_named['cnt_domen'] = df_named['is_sampo']+df_named['is_rt']"
   ]
  },
  {
   "cell_type": "code",
   "execution_count": 59,
   "id": "151eb7f8",
   "metadata": {},
   "outputs": [
    {
     "data": {
      "image/png": "[encoded data removed]",
      "text/plain": [
       "<Figure size 864x288 with 1 Axes>"
      ]
     },
     "metadata": {
      "needs_background": "light"
     },
     "output_type": "display_data"
    }
   ],
   "source": [
    "plt.figure(figsize=(12,4))\n",
    "sns.countplot(data=df_named, x=\"rt\")\n",
    "plt.title('Поисковые запросы к доменам конкурентов')\n",
    "plt.xlabel('domens')\n",
    "plt.ylabel('count')\n",
    "plt.show()"
   ]
  },
  {
   "cell_type": "markdown",
   "id": "a654782f",
   "metadata": {},
   "source": [
    "Большая часть запросов приходится на домены Ростелекома"
   ]
  },
  {
   "cell_type": "markdown",
   "id": "90635b3b",
   "metadata": {},
   "source": [
    "#### Количество запросов к доменам конкурентов"
   ]
  },
  {
   "cell_type": "code",
   "execution_count": 60,
   "id": "d2926d8d",
   "metadata": {},
   "outputs": [
    {
     "data": {
      "text/html": [
       "<div>\n",
       "<style scoped>\n",
       "    .dataframe tbody tr th:only-of-type {\n",
       "        vertical-align: middle;\n",
       "    }\n",
       "\n",
       "    .dataframe tbody tr th {\n",
       "        vertical-align: top;\n",
       "    }\n",
       "\n",
       "    .dataframe thead th {\n",
       "        text-align: right;\n",
       "    }\n",
       "</style>\n",
       "<table border=\"1\" class=\"dataframe\">\n",
       "  <thead>\n",
       "    <tr style=\"text-align: right;\">\n",
       "      <th></th>\n",
       "      <th>contract_id</th>\n",
       "      <th>url</th>\n",
       "    </tr>\n",
       "  </thead>\n",
       "  <tbody>\n",
       "    <tr>\n",
       "      <th>0</th>\n",
       "      <td>3455</td>\n",
       "      <td>24</td>\n",
       "    </tr>\n",
       "    <tr>\n",
       "      <th>1</th>\n",
       "      <td>3458</td>\n",
       "      <td>1</td>\n",
       "    </tr>\n",
       "    <tr>\n",
       "      <th>2</th>\n",
       "      <td>3459</td>\n",
       "      <td>2</td>\n",
       "    </tr>\n",
       "    <tr>\n",
       "      <th>3</th>\n",
       "      <td>3460</td>\n",
       "      <td>10</td>\n",
       "    </tr>\n",
       "    <tr>\n",
       "      <th>4</th>\n",
       "      <td>3461</td>\n",
       "      <td>1</td>\n",
       "    </tr>\n",
       "  </tbody>\n",
       "</table>\n",
       "</div>"
      ],
      "text/plain": [
       "   contract_id  url\n",
       "0         3455   24\n",
       "1         3458    1\n",
       "2         3459    2\n",
       "3         3460   10\n",
       "4         3461    1"
      ]
     },
     "execution_count": 60,
     "metadata": {},
     "output_type": "execute_result"
    }
   ],
   "source": [
    "count_named = df_named.groupby([\"contract_id\"], as_index=False)['url'].count()\n",
    "count_named.head()"
   ]
  },
  {
   "cell_type": "code",
   "execution_count": 61,
   "id": "c49638b6",
   "metadata": {},
   "outputs": [
    {
     "data": {
      "image/png": "[encoded data removed]",
      "text/plain": [
       "<Figure size 1080x360 with 1 Axes>"
      ]
     },
     "metadata": {
      "needs_background": "light"
     },
     "output_type": "display_data"
    }
   ],
   "source": [
    "hist(count_named, 'url')"
   ]
  },
  {
   "cell_type": "code",
   "execution_count": 62,
   "id": "586b6ca4",
   "metadata": {},
   "outputs": [
    {
     "data": {
      "image/png": "[encoded data removed]",
      "text/plain": [
       "<Figure size 1080x360 with 1 Axes>"
      ]
     },
     "metadata": {
      "needs_background": "light"
     },
     "output_type": "display_data"
    }
   ],
   "source": [
    "boxplot(count_named['url'])"
   ]
  },
  {
   "cell_type": "markdown",
   "id": "6140f7e4",
   "metadata": {},
   "source": [
    "На диаграмме видим, что большая часть значений признака (число зпросов к доменам конкурентов) находится в довоьлно узком диапазоне. Откинем пользователей из тренировочного датасета. с аномальными значениями."
   ]
  },
  {
   "cell_type": "code",
   "execution_count": 63,
   "id": "d6e99d47",
   "metadata": {},
   "outputs": [],
   "source": [
    "df_train = pd.merge(df_train, count_named, on=\"contract_id\", how='left')\n",
    "df_test = pd.merge(df_test, count_named, on=\"contract_id\", how='left')"
   ]
  },
  {
   "cell_type": "code",
   "execution_count": 64,
   "id": "13a6e69c",
   "metadata": {},
   "outputs": [],
   "source": [
    "# пропуски заполним нулями\n",
    "df_train = df_train.fillna(0)\n",
    "df_test = df_test.fillna(0)"
   ]
  },
  {
   "cell_type": "code",
   "execution_count": 65,
   "id": "dc1131fe",
   "metadata": {},
   "outputs": [
    {
     "data": {
      "text/plain": [
       "array([56.])"
      ]
     },
     "execution_count": 65,
     "metadata": {},
     "output_type": "execute_result"
    }
   ],
   "source": [
    "np.percentile(df_train['url'], [95])"
   ]
  },
  {
   "cell_type": "code",
   "execution_count": 66,
   "id": "f02bdd1d",
   "metadata": {},
   "outputs": [
    {
     "data": {
      "text/plain": [
       "5442"
      ]
     },
     "execution_count": 66,
     "metadata": {},
     "output_type": "execute_result"
    }
   ],
   "source": [
    "df_train = df_train[df_train['url'] <=56]\n",
    "len(df_train)"
   ]
  },
  {
   "cell_type": "markdown",
   "id": "6544d99d",
   "metadata": {},
   "source": [
    "#### Число доменов конкурентов"
   ]
  },
  {
   "cell_type": "code",
   "execution_count": 67,
   "id": "ce4c3e0d",
   "metadata": {},
   "outputs": [
    {
     "data": {
      "text/html": [
       "<div>\n",
       "<style scoped>\n",
       "    .dataframe tbody tr th:only-of-type {\n",
       "        vertical-align: middle;\n",
       "    }\n",
       "\n",
       "    .dataframe tbody tr th {\n",
       "        vertical-align: top;\n",
       "    }\n",
       "\n",
       "    .dataframe thead th {\n",
       "        text-align: right;\n",
       "    }\n",
       "</style>\n",
       "<table border=\"1\" class=\"dataframe\">\n",
       "  <thead>\n",
       "    <tr style=\"text-align: right;\">\n",
       "      <th></th>\n",
       "      <th>date</th>\n",
       "      <th>url</th>\n",
       "      <th>contract_id</th>\n",
       "      <th>rt</th>\n",
       "      <th>is_rt</th>\n",
       "      <th>is_sampo</th>\n",
       "      <th>cnt_domen</th>\n",
       "    </tr>\n",
       "  </thead>\n",
       "  <tbody>\n",
       "    <tr>\n",
       "      <th>0</th>\n",
       "      <td>17-Apr-2021</td>\n",
       "      <td>webmail.sampo.ru</td>\n",
       "      <td>101397</td>\n",
       "      <td>sampo</td>\n",
       "      <td>0</td>\n",
       "      <td>1</td>\n",
       "      <td>1</td>\n",
       "    </tr>\n",
       "    <tr>\n",
       "      <th>1</th>\n",
       "      <td>17-Apr-2021</td>\n",
       "      <td>webmail.sampo.ru</td>\n",
       "      <td>179624</td>\n",
       "      <td>sampo</td>\n",
       "      <td>0</td>\n",
       "      <td>1</td>\n",
       "      <td>1</td>\n",
       "    </tr>\n",
       "    <tr>\n",
       "      <th>2</th>\n",
       "      <td>17-Apr-2021</td>\n",
       "      <td>tvip-provision.sampo.ru</td>\n",
       "      <td>190335</td>\n",
       "      <td>sampo</td>\n",
       "      <td>0</td>\n",
       "      <td>1</td>\n",
       "      <td>1</td>\n",
       "    </tr>\n",
       "    <tr>\n",
       "      <th>3</th>\n",
       "      <td>17-Apr-2021</td>\n",
       "      <td>tvip-provision.sampo.ru</td>\n",
       "      <td>61670</td>\n",
       "      <td>sampo</td>\n",
       "      <td>0</td>\n",
       "      <td>1</td>\n",
       "      <td>1</td>\n",
       "    </tr>\n",
       "    <tr>\n",
       "      <th>4</th>\n",
       "      <td>17-Apr-2021</td>\n",
       "      <td>tvip-provision.sampo.ru</td>\n",
       "      <td>39370</td>\n",
       "      <td>sampo</td>\n",
       "      <td>0</td>\n",
       "      <td>1</td>\n",
       "      <td>1</td>\n",
       "    </tr>\n",
       "  </tbody>\n",
       "</table>\n",
       "</div>"
      ],
      "text/plain": [
       "          date                      url  contract_id     rt  is_rt  is_sampo  \\\n",
       "0  17-Apr-2021         webmail.sampo.ru       101397  sampo      0         1   \n",
       "1  17-Apr-2021         webmail.sampo.ru       179624  sampo      0         1   \n",
       "2  17-Apr-2021  tvip-provision.sampo.ru       190335  sampo      0         1   \n",
       "3  17-Apr-2021  tvip-provision.sampo.ru        61670  sampo      0         1   \n",
       "4  17-Apr-2021  tvip-provision.sampo.ru        39370  sampo      0         1   \n",
       "\n",
       "   cnt_domen  \n",
       "0          1  \n",
       "1          1  \n",
       "2          1  \n",
       "3          1  \n",
       "4          1  "
      ]
     },
     "execution_count": 67,
     "metadata": {},
     "output_type": "execute_result"
    }
   ],
   "source": [
    "df_named.head()"
   ]
  },
  {
   "cell_type": "code",
   "execution_count": 68,
   "id": "bc0fb938",
   "metadata": {},
   "outputs": [],
   "source": [
    "cnt_domen = df_named.groupby(['contract_id'], as_index=False)['is_sampo', 'is_rt'].max()\n",
    "cnt_domen['cnt_domen'] = cnt_domen['is_sampo']+cnt_domen['is_rt']"
   ]
  },
  {
   "cell_type": "code",
   "execution_count": 69,
   "id": "f3622eef",
   "metadata": {},
   "outputs": [],
   "source": [
    "df_train = pd.merge(df_train, cnt_domen[['contract_id','cnt_domen']] , on=\"contract_id\", how='left')\n",
    "df_test = pd.merge(df_test, cnt_domen[['contract_id','cnt_domen']] , on=\"contract_id\", how='left')"
   ]
  },
  {
   "cell_type": "code",
   "execution_count": 70,
   "id": "a6392d18",
   "metadata": {},
   "outputs": [],
   "source": [
    "# пропуски заполним нулями\n",
    "df_train = df_train.fillna(0)\n",
    "df_test = df_test.fillna(0)"
   ]
  },
  {
   "cell_type": "code",
   "execution_count": 71,
   "id": "313946ca",
   "metadata": {},
   "outputs": [
    {
     "data": {
      "text/plain": [
       "0.0    2962\n",
       "1.0    1462\n",
       "2.0    1018\n",
       "Name: cnt_domen, dtype: int64"
      ]
     },
     "execution_count": 71,
     "metadata": {},
     "output_type": "execute_result"
    }
   ],
   "source": [
    "df_train['cnt_domen'].value_counts()"
   ]
  },
  {
   "cell_type": "markdown",
   "id": "a8871f51",
   "metadata": {},
   "source": [
    "### Среднее число обращений в поддержку в день"
   ]
  },
  {
   "cell_type": "code",
   "execution_count": 72,
   "id": "cf8d846d",
   "metadata": {},
   "outputs": [
    {
     "data": {
      "text/html": [
       "<div>\n",
       "<style scoped>\n",
       "    .dataframe tbody tr th:only-of-type {\n",
       "        vertical-align: middle;\n",
       "    }\n",
       "\n",
       "    .dataframe tbody tr th {\n",
       "        vertical-align: top;\n",
       "    }\n",
       "\n",
       "    .dataframe thead th {\n",
       "        text-align: right;\n",
       "    }\n",
       "</style>\n",
       "<table border=\"1\" class=\"dataframe\">\n",
       "  <thead>\n",
       "    <tr style=\"text-align: right;\">\n",
       "      <th></th>\n",
       "      <th>contract_id</th>\n",
       "      <th>event_date</th>\n",
       "      <th>event_type</th>\n",
       "      <th>cnt_date</th>\n",
       "    </tr>\n",
       "  </thead>\n",
       "  <tbody>\n",
       "    <tr>\n",
       "      <th>0</th>\n",
       "      <td>36294</td>\n",
       "      <td>2021-03-28 16:24:30</td>\n",
       "      <td>Добавление в Обращались с номеров</td>\n",
       "      <td>2021-03-28</td>\n",
       "    </tr>\n",
       "    <tr>\n",
       "      <th>1</th>\n",
       "      <td>36294</td>\n",
       "      <td>2021-03-28 16:27:41</td>\n",
       "      <td>Обращение в службу заботы о клиентах</td>\n",
       "      <td>2021-03-28</td>\n",
       "    </tr>\n",
       "    <tr>\n",
       "      <th>2</th>\n",
       "      <td>36294</td>\n",
       "      <td>2021-03-28 16:29:56</td>\n",
       "      <td>Выключение IPTV-пакета</td>\n",
       "      <td>2021-03-28</td>\n",
       "    </tr>\n",
       "    <tr>\n",
       "      <th>3</th>\n",
       "      <td>36294</td>\n",
       "      <td>2021-03-28 16:29:56</td>\n",
       "      <td>Включение IPTV-пакета</td>\n",
       "      <td>2021-03-28</td>\n",
       "    </tr>\n",
       "    <tr>\n",
       "      <th>4</th>\n",
       "      <td>36294</td>\n",
       "      <td>2021-03-28 16:35:04</td>\n",
       "      <td>Обращение в службу заботы о клиентах</td>\n",
       "      <td>2021-03-28</td>\n",
       "    </tr>\n",
       "  </tbody>\n",
       "</table>\n",
       "</div>"
      ],
      "text/plain": [
       "   contract_id           event_date                            event_type  \\\n",
       "0        36294  2021-03-28 16:24:30     Добавление в Обращались с номеров   \n",
       "1        36294  2021-03-28 16:27:41  Обращение в службу заботы о клиентах   \n",
       "2        36294  2021-03-28 16:29:56                Выключение IPTV-пакета   \n",
       "3        36294  2021-03-28 16:29:56                 Включение IPTV-пакета   \n",
       "4        36294  2021-03-28 16:35:04  Обращение в службу заботы о клиентах   \n",
       "\n",
       "     cnt_date  \n",
       "0  2021-03-28  \n",
       "1  2021-03-28  \n",
       "2  2021-03-28  \n",
       "3  2021-03-28  \n",
       "4  2021-03-28  "
      ]
     },
     "execution_count": 72,
     "metadata": {},
     "output_type": "execute_result"
    }
   ],
   "source": [
    "df_log.head()"
   ]
  },
  {
   "cell_type": "code",
   "execution_count": 73,
   "id": "0705084e",
   "metadata": {},
   "outputs": [
    {
     "data": {
      "text/html": [
       "<div>\n",
       "<style scoped>\n",
       "    .dataframe tbody tr th:only-of-type {\n",
       "        vertical-align: middle;\n",
       "    }\n",
       "\n",
       "    .dataframe tbody tr th {\n",
       "        vertical-align: top;\n",
       "    }\n",
       "\n",
       "    .dataframe thead th {\n",
       "        text-align: right;\n",
       "    }\n",
       "</style>\n",
       "<table border=\"1\" class=\"dataframe\">\n",
       "  <thead>\n",
       "    <tr style=\"text-align: right;\">\n",
       "      <th></th>\n",
       "      <th>contract_id</th>\n",
       "      <th>cnt_date</th>\n",
       "      <th>event_date</th>\n",
       "    </tr>\n",
       "  </thead>\n",
       "  <tbody>\n",
       "    <tr>\n",
       "      <th>0</th>\n",
       "      <td>3453</td>\n",
       "      <td>2021-03-03</td>\n",
       "      <td>1</td>\n",
       "    </tr>\n",
       "    <tr>\n",
       "      <th>1</th>\n",
       "      <td>3454</td>\n",
       "      <td>2021-04-28</td>\n",
       "      <td>1</td>\n",
       "    </tr>\n",
       "    <tr>\n",
       "      <th>2</th>\n",
       "      <td>3456</td>\n",
       "      <td>2021-03-21</td>\n",
       "      <td>4</td>\n",
       "    </tr>\n",
       "    <tr>\n",
       "      <th>3</th>\n",
       "      <td>3457</td>\n",
       "      <td>2021-03-09</td>\n",
       "      <td>1</td>\n",
       "    </tr>\n",
       "    <tr>\n",
       "      <th>4</th>\n",
       "      <td>3457</td>\n",
       "      <td>2021-03-10</td>\n",
       "      <td>1</td>\n",
       "    </tr>\n",
       "  </tbody>\n",
       "</table>\n",
       "</div>"
      ],
      "text/plain": [
       "   contract_id    cnt_date  event_date\n",
       "0         3453  2021-03-03           1\n",
       "1         3454  2021-04-28           1\n",
       "2         3456  2021-03-21           4\n",
       "3         3457  2021-03-09           1\n",
       "4         3457  2021-03-10           1"
      ]
     },
     "execution_count": 73,
     "metadata": {},
     "output_type": "execute_result"
    }
   ],
   "source": [
    "df_support_1 = df_log.groupby(['contract_id', 'cnt_date'], as_index=False)['event_date'].count()\n",
    "df_support_1.head()"
   ]
  },
  {
   "cell_type": "code",
   "execution_count": 74,
   "id": "e91981e6",
   "metadata": {},
   "outputs": [
    {
     "data": {
      "text/html": [
       "<div>\n",
       "<style scoped>\n",
       "    .dataframe tbody tr th:only-of-type {\n",
       "        vertical-align: middle;\n",
       "    }\n",
       "\n",
       "    .dataframe tbody tr th {\n",
       "        vertical-align: top;\n",
       "    }\n",
       "\n",
       "    .dataframe thead th {\n",
       "        text-align: right;\n",
       "    }\n",
       "</style>\n",
       "<table border=\"1\" class=\"dataframe\">\n",
       "  <thead>\n",
       "    <tr style=\"text-align: right;\">\n",
       "      <th></th>\n",
       "      <th>contract_id</th>\n",
       "      <th>avg_support</th>\n",
       "    </tr>\n",
       "  </thead>\n",
       "  <tbody>\n",
       "    <tr>\n",
       "      <th>0</th>\n",
       "      <td>3453</td>\n",
       "      <td>1.0</td>\n",
       "    </tr>\n",
       "    <tr>\n",
       "      <th>1</th>\n",
       "      <td>3454</td>\n",
       "      <td>1.0</td>\n",
       "    </tr>\n",
       "    <tr>\n",
       "      <th>2</th>\n",
       "      <td>3456</td>\n",
       "      <td>4.0</td>\n",
       "    </tr>\n",
       "    <tr>\n",
       "      <th>3</th>\n",
       "      <td>3457</td>\n",
       "      <td>1.0</td>\n",
       "    </tr>\n",
       "    <tr>\n",
       "      <th>4</th>\n",
       "      <td>3458</td>\n",
       "      <td>1.0</td>\n",
       "    </tr>\n",
       "  </tbody>\n",
       "</table>\n",
       "</div>"
      ],
      "text/plain": [
       "   contract_id  avg_support\n",
       "0         3453          1.0\n",
       "1         3454          1.0\n",
       "2         3456          4.0\n",
       "3         3457          1.0\n",
       "4         3458          1.0"
      ]
     },
     "execution_count": 74,
     "metadata": {},
     "output_type": "execute_result"
    }
   ],
   "source": [
    "df_support_2 = df_support_1.groupby(['contract_id'], as_index=False)['event_date'].median()\n",
    "df_support_2 = df_support_2.rename(columns={\"event_date\": \"avg_support\"})\n",
    "df_support_2.head()"
   ]
  },
  {
   "cell_type": "code",
   "execution_count": 75,
   "id": "446e831d",
   "metadata": {},
   "outputs": [
    {
     "data": {
      "image/png": "[encoded data removed]",
      "text/plain": [
       "<Figure size 1080x360 with 1 Axes>"
      ]
     },
     "metadata": {
      "needs_background": "light"
     },
     "output_type": "display_data"
    }
   ],
   "source": [
    "boxplot(df_support_2['avg_support'])"
   ]
  },
  {
   "cell_type": "code",
   "execution_count": 76,
   "id": "4554bd5e",
   "metadata": {},
   "outputs": [],
   "source": [
    "df_train = pd.merge(df_train, df_support_2[['contract_id','avg_support']] , on=\"contract_id\", how='left')\n",
    "df_test = pd.merge(df_test, df_support_2[['contract_id','avg_support']] , on=\"contract_id\", how='left')\n",
    "\n",
    "# пропуски заполним нулями\n",
    "df_train = df_train.fillna(0)\n",
    "df_test = df_test.fillna(0)"
   ]
  },
  {
   "cell_type": "code",
   "execution_count": 77,
   "id": "e922e385",
   "metadata": {},
   "outputs": [
    {
     "data": {
      "text/plain": [
       "array([3.])"
      ]
     },
     "execution_count": 77,
     "metadata": {},
     "output_type": "execute_result"
    }
   ],
   "source": [
    "np.percentile(df_train['avg_support'], [95])"
   ]
  },
  {
   "cell_type": "code",
   "execution_count": 78,
   "id": "d706ca44",
   "metadata": {},
   "outputs": [
    {
     "data": {
      "text/plain": [
       "5189"
      ]
     },
     "execution_count": 78,
     "metadata": {},
     "output_type": "execute_result"
    }
   ],
   "source": [
    "df_train = df_train[df_train['avg_support'] <=3]\n",
    "len(df_train)"
   ]
  },
  {
   "cell_type": "markdown",
   "id": "af92b34e",
   "metadata": {},
   "source": [
    "### Проверка тренировочного датасета после добавления столбцов"
   ]
  },
  {
   "cell_type": "markdown",
   "id": "38ab327f",
   "metadata": {
    "id": "JfDtpoZoeE47"
   },
   "source": [
    "Заменим пропуски"
   ]
  },
  {
   "cell_type": "code",
   "execution_count": 79,
   "id": "dbecf89c",
   "metadata": {
    "id": "pgmgFqen62Rh"
   },
   "outputs": [],
   "source": [
    "df_train = df_train.fillna(0)"
   ]
  },
  {
   "cell_type": "code",
   "execution_count": 80,
   "id": "bc1b0647",
   "metadata": {},
   "outputs": [
    {
     "data": {
      "text/html": [
       "<div>\n",
       "<style scoped>\n",
       "    .dataframe tbody tr th:only-of-type {\n",
       "        vertical-align: middle;\n",
       "    }\n",
       "\n",
       "    .dataframe tbody tr th {\n",
       "        vertical-align: top;\n",
       "    }\n",
       "\n",
       "    .dataframe thead th {\n",
       "        text-align: right;\n",
       "    }\n",
       "</style>\n",
       "<table border=\"1\" class=\"dataframe\">\n",
       "  <thead>\n",
       "    <tr style=\"text-align: right;\">\n",
       "      <th></th>\n",
       "      <th>contract_id</th>\n",
       "      <th>blocked</th>\n",
       "      <th>day_or_month_contract</th>\n",
       "      <th>cnt_contacting</th>\n",
       "      <th>cnt_off</th>\n",
       "      <th>cnt_on</th>\n",
       "      <th>vk</th>\n",
       "      <th>care</th>\n",
       "      <th>garant_pay</th>\n",
       "      <th>equipment</th>\n",
       "      <th>...</th>\n",
       "      <th>iptv</th>\n",
       "      <th>moigorod</th>\n",
       "      <th>fnc</th>\n",
       "      <th>swap</th>\n",
       "      <th>ohrana</th>\n",
       "      <th>broadcast</th>\n",
       "      <th>speedtest</th>\n",
       "      <th>url</th>\n",
       "      <th>cnt_domen</th>\n",
       "      <th>avg_support</th>\n",
       "    </tr>\n",
       "  </thead>\n",
       "  <tbody>\n",
       "    <tr>\n",
       "      <th>0</th>\n",
       "      <td>7785</td>\n",
       "      <td>0</td>\n",
       "      <td>0.0</td>\n",
       "      <td>1.0</td>\n",
       "      <td>0.0</td>\n",
       "      <td>0.0</td>\n",
       "      <td>0.0</td>\n",
       "      <td>0.0</td>\n",
       "      <td>0.0</td>\n",
       "      <td>0.0</td>\n",
       "      <td>...</td>\n",
       "      <td>0.0</td>\n",
       "      <td>0.0</td>\n",
       "      <td>1.0</td>\n",
       "      <td>0.0</td>\n",
       "      <td>0.0</td>\n",
       "      <td>0.0</td>\n",
       "      <td>0.0</td>\n",
       "      <td>10.0</td>\n",
       "      <td>2.0</td>\n",
       "      <td>1.0</td>\n",
       "    </tr>\n",
       "    <tr>\n",
       "      <th>1</th>\n",
       "      <td>7794</td>\n",
       "      <td>0</td>\n",
       "      <td>0.0</td>\n",
       "      <td>0.0</td>\n",
       "      <td>0.0</td>\n",
       "      <td>0.0</td>\n",
       "      <td>0.0</td>\n",
       "      <td>0.0</td>\n",
       "      <td>0.0</td>\n",
       "      <td>0.0</td>\n",
       "      <td>...</td>\n",
       "      <td>0.0</td>\n",
       "      <td>0.0</td>\n",
       "      <td>0.0</td>\n",
       "      <td>0.0</td>\n",
       "      <td>0.0</td>\n",
       "      <td>0.0</td>\n",
       "      <td>0.0</td>\n",
       "      <td>0.0</td>\n",
       "      <td>0.0</td>\n",
       "      <td>0.0</td>\n",
       "    </tr>\n",
       "    <tr>\n",
       "      <th>2</th>\n",
       "      <td>7795</td>\n",
       "      <td>0</td>\n",
       "      <td>1.0</td>\n",
       "      <td>7.0</td>\n",
       "      <td>0.0</td>\n",
       "      <td>4.0</td>\n",
       "      <td>1.0</td>\n",
       "      <td>0.0</td>\n",
       "      <td>0.0</td>\n",
       "      <td>0.0</td>\n",
       "      <td>...</td>\n",
       "      <td>0.0</td>\n",
       "      <td>0.0</td>\n",
       "      <td>0.0</td>\n",
       "      <td>0.0</td>\n",
       "      <td>0.0</td>\n",
       "      <td>0.0</td>\n",
       "      <td>0.0</td>\n",
       "      <td>0.0</td>\n",
       "      <td>0.0</td>\n",
       "      <td>1.5</td>\n",
       "    </tr>\n",
       "    <tr>\n",
       "      <th>3</th>\n",
       "      <td>7798</td>\n",
       "      <td>0</td>\n",
       "      <td>0.0</td>\n",
       "      <td>3.0</td>\n",
       "      <td>0.0</td>\n",
       "      <td>0.0</td>\n",
       "      <td>1.0</td>\n",
       "      <td>0.0</td>\n",
       "      <td>0.0</td>\n",
       "      <td>0.0</td>\n",
       "      <td>...</td>\n",
       "      <td>0.0</td>\n",
       "      <td>0.0</td>\n",
       "      <td>0.0</td>\n",
       "      <td>0.0</td>\n",
       "      <td>0.0</td>\n",
       "      <td>0.0</td>\n",
       "      <td>0.0</td>\n",
       "      <td>0.0</td>\n",
       "      <td>0.0</td>\n",
       "      <td>1.5</td>\n",
       "    </tr>\n",
       "    <tr>\n",
       "      <th>4</th>\n",
       "      <td>7799</td>\n",
       "      <td>0</td>\n",
       "      <td>0.0</td>\n",
       "      <td>0.0</td>\n",
       "      <td>0.0</td>\n",
       "      <td>0.0</td>\n",
       "      <td>0.0</td>\n",
       "      <td>0.0</td>\n",
       "      <td>0.0</td>\n",
       "      <td>0.0</td>\n",
       "      <td>...</td>\n",
       "      <td>0.0</td>\n",
       "      <td>0.0</td>\n",
       "      <td>0.0</td>\n",
       "      <td>0.0</td>\n",
       "      <td>0.0</td>\n",
       "      <td>0.0</td>\n",
       "      <td>0.0</td>\n",
       "      <td>1.0</td>\n",
       "      <td>1.0</td>\n",
       "      <td>0.0</td>\n",
       "    </tr>\n",
       "  </tbody>\n",
       "</table>\n",
       "<p>5 rows × 21 columns</p>\n",
       "</div>"
      ],
      "text/plain": [
       "   contract_id  blocked  day_or_month_contract  cnt_contacting  cnt_off  \\\n",
       "0         7785        0                    0.0             1.0      0.0   \n",
       "1         7794        0                    0.0             0.0      0.0   \n",
       "2         7795        0                    1.0             7.0      0.0   \n",
       "3         7798        0                    0.0             3.0      0.0   \n",
       "4         7799        0                    0.0             0.0      0.0   \n",
       "\n",
       "   cnt_on   vk  care  garant_pay  equipment  ...  iptv  moigorod  fnc  swap  \\\n",
       "0     0.0  0.0   0.0         0.0        0.0  ...   0.0       0.0  1.0   0.0   \n",
       "1     0.0  0.0   0.0         0.0        0.0  ...   0.0       0.0  0.0   0.0   \n",
       "2     4.0  1.0   0.0         0.0        0.0  ...   0.0       0.0  0.0   0.0   \n",
       "3     0.0  1.0   0.0         0.0        0.0  ...   0.0       0.0  0.0   0.0   \n",
       "4     0.0  0.0   0.0         0.0        0.0  ...   0.0       0.0  0.0   0.0   \n",
       "\n",
       "   ohrana  broadcast  speedtest   url  cnt_domen  avg_support  \n",
       "0     0.0        0.0        0.0  10.0        2.0          1.0  \n",
       "1     0.0        0.0        0.0   0.0        0.0          0.0  \n",
       "2     0.0        0.0        0.0   0.0        0.0          1.5  \n",
       "3     0.0        0.0        0.0   0.0        0.0          1.5  \n",
       "4     0.0        0.0        0.0   1.0        1.0          0.0  \n",
       "\n",
       "[5 rows x 21 columns]"
      ]
     },
     "execution_count": 80,
     "metadata": {},
     "output_type": "execute_result"
    }
   ],
   "source": [
    "df_train.head()"
   ]
  },
  {
   "cell_type": "code",
   "execution_count": 81,
   "id": "dc96cac5",
   "metadata": {},
   "outputs": [
    {
     "name": "stdout",
     "output_type": "stream",
     "text": [
      "<class 'pandas.core.frame.DataFrame'>\n",
      "Int64Index: 5189 entries, 0 to 5441\n",
      "Data columns (total 21 columns):\n",
      " #   Column                 Non-Null Count  Dtype  \n",
      "---  ------                 --------------  -----  \n",
      " 0   contract_id            5189 non-null   int64  \n",
      " 1   blocked                5189 non-null   int64  \n",
      " 2   day_or_month_contract  5189 non-null   float64\n",
      " 3   cnt_contacting         5189 non-null   float64\n",
      " 4   cnt_off                5189 non-null   float64\n",
      " 5   cnt_on                 5189 non-null   float64\n",
      " 6   vk                     5189 non-null   float64\n",
      " 7   care                   5189 non-null   float64\n",
      " 8   garant_pay             5189 non-null   float64\n",
      " 9   equipment              5189 non-null   float64\n",
      " 10  turbo                  5189 non-null   float64\n",
      " 11  iptv                   5189 non-null   float64\n",
      " 12  moigorod               5189 non-null   float64\n",
      " 13  fnc                    5189 non-null   float64\n",
      " 14  swap                   5189 non-null   float64\n",
      " 15  ohrana                 5189 non-null   float64\n",
      " 16  broadcast              5189 non-null   float64\n",
      " 17  speedtest              5189 non-null   float64\n",
      " 18  url                    5189 non-null   float64\n",
      " 19  cnt_domen              5189 non-null   float64\n",
      " 20  avg_support            5189 non-null   float64\n",
      "dtypes: float64(19), int64(2)\n",
      "memory usage: 891.9 KB\n"
     ]
    }
   ],
   "source": [
    "df_train.info()"
   ]
  },
  {
   "cell_type": "markdown",
   "id": "1f13b2d9",
   "metadata": {},
   "source": [
    "### Проверка тестового датасета после добавления столбцов"
   ]
  },
  {
   "cell_type": "code",
   "execution_count": 82,
   "id": "36cdf4c1",
   "metadata": {
    "id": "pgmgFqen62Rh"
   },
   "outputs": [
    {
     "data": {
      "text/html": [
       "<div>\n",
       "<style scoped>\n",
       "    .dataframe tbody tr th:only-of-type {\n",
       "        vertical-align: middle;\n",
       "    }\n",
       "\n",
       "    .dataframe tbody tr th {\n",
       "        vertical-align: top;\n",
       "    }\n",
       "\n",
       "    .dataframe thead th {\n",
       "        text-align: right;\n",
       "    }\n",
       "</style>\n",
       "<table border=\"1\" class=\"dataframe\">\n",
       "  <thead>\n",
       "    <tr style=\"text-align: right;\">\n",
       "      <th></th>\n",
       "      <th>contract_id</th>\n",
       "      <th>blocked</th>\n",
       "      <th>day_or_month_contract</th>\n",
       "      <th>cnt_contacting</th>\n",
       "      <th>cnt_off</th>\n",
       "      <th>cnt_on</th>\n",
       "      <th>vk</th>\n",
       "      <th>care</th>\n",
       "      <th>garant_pay</th>\n",
       "      <th>equipment</th>\n",
       "      <th>...</th>\n",
       "      <th>iptv</th>\n",
       "      <th>moigorod</th>\n",
       "      <th>fnc</th>\n",
       "      <th>swap</th>\n",
       "      <th>ohrana</th>\n",
       "      <th>broadcast</th>\n",
       "      <th>speedtest</th>\n",
       "      <th>url</th>\n",
       "      <th>cnt_domen</th>\n",
       "      <th>avg_support</th>\n",
       "    </tr>\n",
       "  </thead>\n",
       "  <tbody>\n",
       "    <tr>\n",
       "      <th>0</th>\n",
       "      <td>3453</td>\n",
       "      <td>0</td>\n",
       "      <td>0</td>\n",
       "      <td>1.0</td>\n",
       "      <td>0.0</td>\n",
       "      <td>0.0</td>\n",
       "      <td>1.0</td>\n",
       "      <td>0.0</td>\n",
       "      <td>0.0</td>\n",
       "      <td>0.0</td>\n",
       "      <td>...</td>\n",
       "      <td>0.0</td>\n",
       "      <td>0.0</td>\n",
       "      <td>0.0</td>\n",
       "      <td>0.0</td>\n",
       "      <td>0.0</td>\n",
       "      <td>0.0</td>\n",
       "      <td>0.0</td>\n",
       "      <td>0.0</td>\n",
       "      <td>0.0</td>\n",
       "      <td>1.0</td>\n",
       "    </tr>\n",
       "    <tr>\n",
       "      <th>1</th>\n",
       "      <td>3454</td>\n",
       "      <td>0</td>\n",
       "      <td>1</td>\n",
       "      <td>1.0</td>\n",
       "      <td>0.0</td>\n",
       "      <td>0.0</td>\n",
       "      <td>0.0</td>\n",
       "      <td>0.0</td>\n",
       "      <td>0.0</td>\n",
       "      <td>0.0</td>\n",
       "      <td>...</td>\n",
       "      <td>0.0</td>\n",
       "      <td>0.0</td>\n",
       "      <td>0.0</td>\n",
       "      <td>0.0</td>\n",
       "      <td>0.0</td>\n",
       "      <td>0.0</td>\n",
       "      <td>0.0</td>\n",
       "      <td>0.0</td>\n",
       "      <td>0.0</td>\n",
       "      <td>1.0</td>\n",
       "    </tr>\n",
       "    <tr>\n",
       "      <th>2</th>\n",
       "      <td>3455</td>\n",
       "      <td>0</td>\n",
       "      <td>1</td>\n",
       "      <td>0.0</td>\n",
       "      <td>0.0</td>\n",
       "      <td>0.0</td>\n",
       "      <td>0.0</td>\n",
       "      <td>0.0</td>\n",
       "      <td>0.0</td>\n",
       "      <td>0.0</td>\n",
       "      <td>...</td>\n",
       "      <td>1.0</td>\n",
       "      <td>1.0</td>\n",
       "      <td>0.0</td>\n",
       "      <td>1.0</td>\n",
       "      <td>0.0</td>\n",
       "      <td>0.0</td>\n",
       "      <td>0.0</td>\n",
       "      <td>24.0</td>\n",
       "      <td>2.0</td>\n",
       "      <td>0.0</td>\n",
       "    </tr>\n",
       "    <tr>\n",
       "      <th>3</th>\n",
       "      <td>3456</td>\n",
       "      <td>0</td>\n",
       "      <td>0</td>\n",
       "      <td>4.0</td>\n",
       "      <td>0.0</td>\n",
       "      <td>0.0</td>\n",
       "      <td>0.0</td>\n",
       "      <td>0.0</td>\n",
       "      <td>0.0</td>\n",
       "      <td>1.0</td>\n",
       "      <td>...</td>\n",
       "      <td>0.0</td>\n",
       "      <td>0.0</td>\n",
       "      <td>0.0</td>\n",
       "      <td>0.0</td>\n",
       "      <td>0.0</td>\n",
       "      <td>0.0</td>\n",
       "      <td>0.0</td>\n",
       "      <td>0.0</td>\n",
       "      <td>0.0</td>\n",
       "      <td>4.0</td>\n",
       "    </tr>\n",
       "    <tr>\n",
       "      <th>4</th>\n",
       "      <td>3457</td>\n",
       "      <td>0</td>\n",
       "      <td>0</td>\n",
       "      <td>4.0</td>\n",
       "      <td>0.0</td>\n",
       "      <td>0.0</td>\n",
       "      <td>1.0</td>\n",
       "      <td>0.0</td>\n",
       "      <td>0.0</td>\n",
       "      <td>0.0</td>\n",
       "      <td>...</td>\n",
       "      <td>0.0</td>\n",
       "      <td>0.0</td>\n",
       "      <td>0.0</td>\n",
       "      <td>0.0</td>\n",
       "      <td>0.0</td>\n",
       "      <td>0.0</td>\n",
       "      <td>0.0</td>\n",
       "      <td>0.0</td>\n",
       "      <td>0.0</td>\n",
       "      <td>1.0</td>\n",
       "    </tr>\n",
       "  </tbody>\n",
       "</table>\n",
       "<p>5 rows × 21 columns</p>\n",
       "</div>"
      ],
      "text/plain": [
       "   contract_id  blocked  day_or_month_contract  cnt_contacting  cnt_off  \\\n",
       "0         3453        0                      0             1.0      0.0   \n",
       "1         3454        0                      1             1.0      0.0   \n",
       "2         3455        0                      1             0.0      0.0   \n",
       "3         3456        0                      0             4.0      0.0   \n",
       "4         3457        0                      0             4.0      0.0   \n",
       "\n",
       "   cnt_on   vk  care  garant_pay  equipment  ...  iptv  moigorod  fnc  swap  \\\n",
       "0     0.0  1.0   0.0         0.0        0.0  ...   0.0       0.0  0.0   0.0   \n",
       "1     0.0  0.0   0.0         0.0        0.0  ...   0.0       0.0  0.0   0.0   \n",
       "2     0.0  0.0   0.0         0.0        0.0  ...   1.0       1.0  0.0   1.0   \n",
       "3     0.0  0.0   0.0         0.0        1.0  ...   0.0       0.0  0.0   0.0   \n",
       "4     0.0  1.0   0.0         0.0        0.0  ...   0.0       0.0  0.0   0.0   \n",
       "\n",
       "   ohrana  broadcast  speedtest   url  cnt_domen  avg_support  \n",
       "0     0.0        0.0        0.0   0.0        0.0          1.0  \n",
       "1     0.0        0.0        0.0   0.0        0.0          1.0  \n",
       "2     0.0        0.0        0.0  24.0        2.0          0.0  \n",
       "3     0.0        0.0        0.0   0.0        0.0          4.0  \n",
       "4     0.0        0.0        0.0   0.0        0.0          1.0  \n",
       "\n",
       "[5 rows x 21 columns]"
      ]
     },
     "execution_count": 82,
     "metadata": {},
     "output_type": "execute_result"
    }
   ],
   "source": [
    "df_test = df_test.fillna(0)\n",
    "df_test.head()"
   ]
  },
  {
   "cell_type": "code",
   "execution_count": 83,
   "id": "0ec791e0",
   "metadata": {},
   "outputs": [
    {
     "name": "stdout",
     "output_type": "stream",
     "text": [
      "<class 'pandas.core.frame.DataFrame'>\n",
      "Int64Index: 810 entries, 0 to 809\n",
      "Data columns (total 21 columns):\n",
      " #   Column                 Non-Null Count  Dtype  \n",
      "---  ------                 --------------  -----  \n",
      " 0   contract_id            810 non-null    int64  \n",
      " 1   blocked                810 non-null    int64  \n",
      " 2   day_or_month_contract  810 non-null    int64  \n",
      " 3   cnt_contacting         810 non-null    float64\n",
      " 4   cnt_off                810 non-null    float64\n",
      " 5   cnt_on                 810 non-null    float64\n",
      " 6   vk                     810 non-null    float64\n",
      " 7   care                   810 non-null    float64\n",
      " 8   garant_pay             810 non-null    float64\n",
      " 9   equipment              810 non-null    float64\n",
      " 10  turbo                  810 non-null    float64\n",
      " 11  iptv                   810 non-null    float64\n",
      " 12  moigorod               810 non-null    float64\n",
      " 13  fnc                    810 non-null    float64\n",
      " 14  swap                   810 non-null    float64\n",
      " 15  ohrana                 810 non-null    float64\n",
      " 16  broadcast              810 non-null    float64\n",
      " 17  speedtest              810 non-null    float64\n",
      " 18  url                    810 non-null    float64\n",
      " 19  cnt_domen              810 non-null    float64\n",
      " 20  avg_support            810 non-null    float64\n",
      "dtypes: float64(18), int64(3)\n",
      "memory usage: 139.2 KB\n"
     ]
    }
   ],
   "source": [
    "df_test.info()"
   ]
  },
  {
   "cell_type": "markdown",
   "id": "f193c66a",
   "metadata": {},
   "source": [
    "### Распределение признаков"
   ]
  },
  {
   "cell_type": "code",
   "execution_count": 84,
   "id": "3002c198",
   "metadata": {},
   "outputs": [
    {
     "data": {
      "image/png": "[encoded data removed]",
      "text/plain": [
       "<Figure size 1440x1080 with 8 Axes>"
      ]
     },
     "metadata": {
      "needs_background": "light"
     },
     "output_type": "display_data"
    }
   ],
   "source": [
    "# распределение количественных признаков\n",
    "try:\n",
    "    fig, ax = plt.subplots(4, 2, figsize=(20, 15))\n",
    "    sns.histplot(x='day_or_month_contract', hue = 'blocked',data = df_train, ax=ax[0][0])\n",
    "    sns.histplot(x='cnt_contacting', hue = 'blocked',data = df_train, ax=ax[0][1])\n",
    "    sns.histplot(x='cnt_off', hue = 'blocked',data = df_train, ax=ax[1][0])\n",
    "    sns.histplot(x='cnt_on', hue = 'blocked',data = df_train, ax=ax[1][1])\n",
    "    sns.histplot(x='url', hue = 'blocked',data = df_train, ax=ax[2][0])\n",
    "    sns.histplot(x='cnt_domen', hue = 'blocked',data = df_train, ax=ax[2][1])\n",
    "    sns.histplot(x='avg_support', hue = 'blocked',data = df_train, ax=ax[3][0])\n",
    "    plt.show()\n",
    "except:\n",
    "    print('Вывод визуализаций невозможен, необходимо перезапустить ноутбук повторно.')"
   ]
  },
  {
   "cell_type": "markdown",
   "id": "0f97736c",
   "metadata": {},
   "source": [
    "### Проверка на мультиколлениарность"
   ]
  },
  {
   "cell_type": "code",
   "execution_count": 85,
   "id": "2eeedd2e",
   "metadata": {},
   "outputs": [
    {
     "data": {
      "image/png": "[encoded data removed]",
      "text/plain": [
       "<Figure size 1296x720 with 2 Axes>"
      ]
     },
     "metadata": {
      "needs_background": "light"
     },
     "output_type": "display_data"
    }
   ],
   "source": [
    "corr_heatmap(df_train, 'Матрица корреляций')"
   ]
  },
  {
   "cell_type": "code",
   "execution_count": 86,
   "id": "69863ed9",
   "metadata": {},
   "outputs": [],
   "source": [
    "cols_to_drop = ['cnt_domen', 'url', 'cnt_off', 'cnt_contacting', 'ohrana', 'fnc', 'turbo', 'speedtest']\n",
    "df_train = df_train[df_train.columns.drop(cols_to_drop)]\n",
    "df_test = df_test[df_test.columns.drop(cols_to_drop)]"
   ]
  },
  {
   "cell_type": "code",
   "execution_count": 87,
   "id": "b2667244",
   "metadata": {},
   "outputs": [
    {
     "data": {
      "image/png": "[encoded data removed]",
      "text/plain": [
       "<Figure size 1296x720 with 2 Axes>"
      ]
     },
     "metadata": {},
     "output_type": "display_data"
    }
   ],
   "source": [
    "corr_heatmap(df_train, 'Матрица корреляций')"
   ]
  },
  {
   "cell_type": "markdown",
   "id": "8cf1fa80",
   "metadata": {},
   "source": [
    "### Разделение исходных данных  на обучающую, валидационную выборки (тестовая же в отдельном датасете)"
   ]
  },
  {
   "cell_type": "code",
   "execution_count": 88,
   "id": "96cda30e",
   "metadata": {},
   "outputs": [
    {
     "data": {
      "text/html": [
       "<div>\n",
       "<style scoped>\n",
       "    .dataframe tbody tr th:only-of-type {\n",
       "        vertical-align: middle;\n",
       "    }\n",
       "\n",
       "    .dataframe tbody tr th {\n",
       "        vertical-align: top;\n",
       "    }\n",
       "\n",
       "    .dataframe thead th {\n",
       "        text-align: right;\n",
       "    }\n",
       "</style>\n",
       "<table border=\"1\" class=\"dataframe\">\n",
       "  <thead>\n",
       "    <tr style=\"text-align: right;\">\n",
       "      <th></th>\n",
       "      <th>contract_id</th>\n",
       "      <th>blocked</th>\n",
       "      <th>day_or_month_contract</th>\n",
       "      <th>cnt_on</th>\n",
       "      <th>vk</th>\n",
       "      <th>care</th>\n",
       "      <th>garant_pay</th>\n",
       "      <th>equipment</th>\n",
       "      <th>iptv</th>\n",
       "      <th>moigorod</th>\n",
       "      <th>swap</th>\n",
       "      <th>broadcast</th>\n",
       "      <th>avg_support</th>\n",
       "    </tr>\n",
       "  </thead>\n",
       "  <tbody>\n",
       "    <tr>\n",
       "      <th>0</th>\n",
       "      <td>7785</td>\n",
       "      <td>0</td>\n",
       "      <td>0.0</td>\n",
       "      <td>0.0</td>\n",
       "      <td>0.0</td>\n",
       "      <td>0.0</td>\n",
       "      <td>0.0</td>\n",
       "      <td>0.0</td>\n",
       "      <td>0.0</td>\n",
       "      <td>0.0</td>\n",
       "      <td>0.0</td>\n",
       "      <td>0.0</td>\n",
       "      <td>1.0</td>\n",
       "    </tr>\n",
       "    <tr>\n",
       "      <th>1</th>\n",
       "      <td>7794</td>\n",
       "      <td>0</td>\n",
       "      <td>0.0</td>\n",
       "      <td>0.0</td>\n",
       "      <td>0.0</td>\n",
       "      <td>0.0</td>\n",
       "      <td>0.0</td>\n",
       "      <td>0.0</td>\n",
       "      <td>0.0</td>\n",
       "      <td>0.0</td>\n",
       "      <td>0.0</td>\n",
       "      <td>0.0</td>\n",
       "      <td>0.0</td>\n",
       "    </tr>\n",
       "    <tr>\n",
       "      <th>2</th>\n",
       "      <td>7795</td>\n",
       "      <td>0</td>\n",
       "      <td>1.0</td>\n",
       "      <td>4.0</td>\n",
       "      <td>1.0</td>\n",
       "      <td>0.0</td>\n",
       "      <td>0.0</td>\n",
       "      <td>0.0</td>\n",
       "      <td>0.0</td>\n",
       "      <td>0.0</td>\n",
       "      <td>0.0</td>\n",
       "      <td>0.0</td>\n",
       "      <td>1.5</td>\n",
       "    </tr>\n",
       "    <tr>\n",
       "      <th>3</th>\n",
       "      <td>7798</td>\n",
       "      <td>0</td>\n",
       "      <td>0.0</td>\n",
       "      <td>0.0</td>\n",
       "      <td>1.0</td>\n",
       "      <td>0.0</td>\n",
       "      <td>0.0</td>\n",
       "      <td>0.0</td>\n",
       "      <td>0.0</td>\n",
       "      <td>0.0</td>\n",
       "      <td>0.0</td>\n",
       "      <td>0.0</td>\n",
       "      <td>1.5</td>\n",
       "    </tr>\n",
       "    <tr>\n",
       "      <th>4</th>\n",
       "      <td>7799</td>\n",
       "      <td>0</td>\n",
       "      <td>0.0</td>\n",
       "      <td>0.0</td>\n",
       "      <td>0.0</td>\n",
       "      <td>0.0</td>\n",
       "      <td>0.0</td>\n",
       "      <td>0.0</td>\n",
       "      <td>0.0</td>\n",
       "      <td>0.0</td>\n",
       "      <td>0.0</td>\n",
       "      <td>0.0</td>\n",
       "      <td>0.0</td>\n",
       "    </tr>\n",
       "  </tbody>\n",
       "</table>\n",
       "</div>"
      ],
      "text/plain": [
       "   contract_id  blocked  day_or_month_contract  cnt_on   vk  care  garant_pay  \\\n",
       "0         7785        0                    0.0     0.0  0.0   0.0         0.0   \n",
       "1         7794        0                    0.0     0.0  0.0   0.0         0.0   \n",
       "2         7795        0                    1.0     4.0  1.0   0.0         0.0   \n",
       "3         7798        0                    0.0     0.0  1.0   0.0         0.0   \n",
       "4         7799        0                    0.0     0.0  0.0   0.0         0.0   \n",
       "\n",
       "   equipment  iptv  moigorod  swap  broadcast  avg_support  \n",
       "0        0.0   0.0       0.0   0.0        0.0          1.0  \n",
       "1        0.0   0.0       0.0   0.0        0.0          0.0  \n",
       "2        0.0   0.0       0.0   0.0        0.0          1.5  \n",
       "3        0.0   0.0       0.0   0.0        0.0          1.5  \n",
       "4        0.0   0.0       0.0   0.0        0.0          0.0  "
      ]
     },
     "execution_count": 88,
     "metadata": {},
     "output_type": "execute_result"
    }
   ],
   "source": [
    "df_train.head()"
   ]
  },
  {
   "cell_type": "code",
   "execution_count": 89,
   "id": "7ee64295",
   "metadata": {},
   "outputs": [],
   "source": [
    "# разделим данные на признаки (матрица X) и целевую переменную (y)\n",
    "X_train_full = df_train.drop([\"contract_id\", \"blocked\"], axis = 1)\n",
    "y_train_full = df_train[[\"blocked\"]]\n",
    "\n",
    "X_test = df_test.drop([\"contract_id\", \"blocked\"], axis = 1)\n",
    "y_test = df_test[[\"blocked\"]]"
   ]
  },
  {
   "cell_type": "code",
   "execution_count": 90,
   "id": "577da8e3",
   "metadata": {},
   "outputs": [],
   "source": [
    "# созддим переменную под параметр random_state\n",
    "rs = 42"
   ]
  },
  {
   "cell_type": "code",
   "execution_count": 91,
   "id": "f93cb486",
   "metadata": {},
   "outputs": [],
   "source": [
    "# Из обучающей выборки выделим валидационную выборку\n",
    "X_train, X_val, y_train, y_val =\\\n",
    "train_test_split(X_train_full, y_train_full, test_size=0.25, random_state=rs, stratify=y_train_full)"
   ]
  },
  {
   "cell_type": "markdown",
   "id": "50dc5f1e",
   "metadata": {},
   "source": [
    "### Масштабирование признаков"
   ]
  },
  {
   "cell_type": "markdown",
   "id": "87678adb",
   "metadata": {},
   "source": [
    "Поскольку в данных присутствуют признаки с большими значениями и большим разбросом данных (вычисляемые столбцы, которые мы добавили - cnt_contacting, url), то алгоритмы машинного обучения могут решить, что при обучении такие признаки являются более значимыми. Чтобы избежать подобной проблемы, необходимо масштабировать данные (привести в единую шкалу).\n",
    "\n",
    "Стандартизируем численные признаки обучающей выборки, которые имеют большой разброс данных. \n",
    "\n",
    "Данную процедуру пройдут все выборки, которые будут использованы."
   ]
  },
  {
   "cell_type": "code",
   "execution_count": 92,
   "id": "28d51b64",
   "metadata": {},
   "outputs": [
    {
     "data": {
      "text/html": [
       "<div>\n",
       "<style scoped>\n",
       "    .dataframe tbody tr th:only-of-type {\n",
       "        vertical-align: middle;\n",
       "    }\n",
       "\n",
       "    .dataframe tbody tr th {\n",
       "        vertical-align: top;\n",
       "    }\n",
       "\n",
       "    .dataframe thead th {\n",
       "        text-align: right;\n",
       "    }\n",
       "</style>\n",
       "<table border=\"1\" class=\"dataframe\">\n",
       "  <thead>\n",
       "    <tr style=\"text-align: right;\">\n",
       "      <th></th>\n",
       "      <th>day_or_month_contract</th>\n",
       "      <th>cnt_on</th>\n",
       "      <th>vk</th>\n",
       "      <th>care</th>\n",
       "      <th>garant_pay</th>\n",
       "      <th>equipment</th>\n",
       "      <th>iptv</th>\n",
       "      <th>moigorod</th>\n",
       "      <th>swap</th>\n",
       "      <th>broadcast</th>\n",
       "      <th>avg_support</th>\n",
       "    </tr>\n",
       "  </thead>\n",
       "  <tbody>\n",
       "    <tr>\n",
       "      <th>count</th>\n",
       "      <td>5189.000000</td>\n",
       "      <td>5189.000000</td>\n",
       "      <td>5189.000000</td>\n",
       "      <td>5189.000000</td>\n",
       "      <td>5189.000000</td>\n",
       "      <td>5189.000000</td>\n",
       "      <td>5189.000000</td>\n",
       "      <td>5189.000000</td>\n",
       "      <td>5189.000000</td>\n",
       "      <td>5189.000000</td>\n",
       "      <td>5189.000000</td>\n",
       "    </tr>\n",
       "    <tr>\n",
       "      <th>mean</th>\n",
       "      <td>0.426094</td>\n",
       "      <td>0.460975</td>\n",
       "      <td>0.348622</td>\n",
       "      <td>0.184621</td>\n",
       "      <td>0.123531</td>\n",
       "      <td>0.016574</td>\n",
       "      <td>0.028329</td>\n",
       "      <td>0.096550</td>\n",
       "      <td>0.038158</td>\n",
       "      <td>0.067258</td>\n",
       "      <td>0.881576</td>\n",
       "    </tr>\n",
       "    <tr>\n",
       "      <th>std</th>\n",
       "      <td>0.494555</td>\n",
       "      <td>1.152195</td>\n",
       "      <td>0.476580</td>\n",
       "      <td>0.388027</td>\n",
       "      <td>0.329077</td>\n",
       "      <td>0.127679</td>\n",
       "      <td>0.165927</td>\n",
       "      <td>0.295373</td>\n",
       "      <td>0.191595</td>\n",
       "      <td>0.250492</td>\n",
       "      <td>0.877905</td>\n",
       "    </tr>\n",
       "    <tr>\n",
       "      <th>min</th>\n",
       "      <td>0.000000</td>\n",
       "      <td>0.000000</td>\n",
       "      <td>0.000000</td>\n",
       "      <td>0.000000</td>\n",
       "      <td>0.000000</td>\n",
       "      <td>0.000000</td>\n",
       "      <td>0.000000</td>\n",
       "      <td>0.000000</td>\n",
       "      <td>0.000000</td>\n",
       "      <td>0.000000</td>\n",
       "      <td>0.000000</td>\n",
       "    </tr>\n",
       "    <tr>\n",
       "      <th>25%</th>\n",
       "      <td>0.000000</td>\n",
       "      <td>0.000000</td>\n",
       "      <td>0.000000</td>\n",
       "      <td>0.000000</td>\n",
       "      <td>0.000000</td>\n",
       "      <td>0.000000</td>\n",
       "      <td>0.000000</td>\n",
       "      <td>0.000000</td>\n",
       "      <td>0.000000</td>\n",
       "      <td>0.000000</td>\n",
       "      <td>0.000000</td>\n",
       "    </tr>\n",
       "    <tr>\n",
       "      <th>50%</th>\n",
       "      <td>0.000000</td>\n",
       "      <td>0.000000</td>\n",
       "      <td>0.000000</td>\n",
       "      <td>0.000000</td>\n",
       "      <td>0.000000</td>\n",
       "      <td>0.000000</td>\n",
       "      <td>0.000000</td>\n",
       "      <td>0.000000</td>\n",
       "      <td>0.000000</td>\n",
       "      <td>0.000000</td>\n",
       "      <td>1.000000</td>\n",
       "    </tr>\n",
       "    <tr>\n",
       "      <th>75%</th>\n",
       "      <td>1.000000</td>\n",
       "      <td>0.000000</td>\n",
       "      <td>1.000000</td>\n",
       "      <td>0.000000</td>\n",
       "      <td>0.000000</td>\n",
       "      <td>0.000000</td>\n",
       "      <td>0.000000</td>\n",
       "      <td>0.000000</td>\n",
       "      <td>0.000000</td>\n",
       "      <td>0.000000</td>\n",
       "      <td>1.500000</td>\n",
       "    </tr>\n",
       "    <tr>\n",
       "      <th>max</th>\n",
       "      <td>1.000000</td>\n",
       "      <td>14.000000</td>\n",
       "      <td>1.000000</td>\n",
       "      <td>1.000000</td>\n",
       "      <td>1.000000</td>\n",
       "      <td>1.000000</td>\n",
       "      <td>1.000000</td>\n",
       "      <td>1.000000</td>\n",
       "      <td>1.000000</td>\n",
       "      <td>1.000000</td>\n",
       "      <td>3.000000</td>\n",
       "    </tr>\n",
       "  </tbody>\n",
       "</table>\n",
       "</div>"
      ],
      "text/plain": [
       "       day_or_month_contract       cnt_on           vk         care  \\\n",
       "count            5189.000000  5189.000000  5189.000000  5189.000000   \n",
       "mean                0.426094     0.460975     0.348622     0.184621   \n",
       "std                 0.494555     1.152195     0.476580     0.388027   \n",
       "min                 0.000000     0.000000     0.000000     0.000000   \n",
       "25%                 0.000000     0.000000     0.000000     0.000000   \n",
       "50%                 0.000000     0.000000     0.000000     0.000000   \n",
       "75%                 1.000000     0.000000     1.000000     0.000000   \n",
       "max                 1.000000    14.000000     1.000000     1.000000   \n",
       "\n",
       "        garant_pay    equipment         iptv     moigorod         swap  \\\n",
       "count  5189.000000  5189.000000  5189.000000  5189.000000  5189.000000   \n",
       "mean      0.123531     0.016574     0.028329     0.096550     0.038158   \n",
       "std       0.329077     0.127679     0.165927     0.295373     0.191595   \n",
       "min       0.000000     0.000000     0.000000     0.000000     0.000000   \n",
       "25%       0.000000     0.000000     0.000000     0.000000     0.000000   \n",
       "50%       0.000000     0.000000     0.000000     0.000000     0.000000   \n",
       "75%       0.000000     0.000000     0.000000     0.000000     0.000000   \n",
       "max       1.000000     1.000000     1.000000     1.000000     1.000000   \n",
       "\n",
       "         broadcast  avg_support  \n",
       "count  5189.000000  5189.000000  \n",
       "mean      0.067258     0.881576  \n",
       "std       0.250492     0.877905  \n",
       "min       0.000000     0.000000  \n",
       "25%       0.000000     0.000000  \n",
       "50%       0.000000     1.000000  \n",
       "75%       0.000000     1.500000  \n",
       "max       1.000000     3.000000  "
      ]
     },
     "execution_count": 92,
     "metadata": {},
     "output_type": "execute_result"
    }
   ],
   "source": [
    "X_train_full.describe()"
   ]
  },
  {
   "cell_type": "code",
   "execution_count": 93,
   "id": "fe90ba4c",
   "metadata": {},
   "outputs": [
    {
     "data": {
      "text/html": [
       "<div>\n",
       "<style scoped>\n",
       "    .dataframe tbody tr th:only-of-type {\n",
       "        vertical-align: middle;\n",
       "    }\n",
       "\n",
       "    .dataframe tbody tr th {\n",
       "        vertical-align: top;\n",
       "    }\n",
       "\n",
       "    .dataframe thead th {\n",
       "        text-align: right;\n",
       "    }\n",
       "</style>\n",
       "<table border=\"1\" class=\"dataframe\">\n",
       "  <thead>\n",
       "    <tr style=\"text-align: right;\">\n",
       "      <th></th>\n",
       "      <th>day_or_month_contract</th>\n",
       "      <th>cnt_on</th>\n",
       "      <th>vk</th>\n",
       "      <th>care</th>\n",
       "      <th>garant_pay</th>\n",
       "      <th>equipment</th>\n",
       "      <th>iptv</th>\n",
       "      <th>moigorod</th>\n",
       "      <th>swap</th>\n",
       "      <th>broadcast</th>\n",
       "      <th>avg_support</th>\n",
       "    </tr>\n",
       "  </thead>\n",
       "  <tbody>\n",
       "    <tr>\n",
       "      <th>3888</th>\n",
       "      <td>1.0</td>\n",
       "      <td>-0.403212</td>\n",
       "      <td>0.0</td>\n",
       "      <td>0.0</td>\n",
       "      <td>0.0</td>\n",
       "      <td>0.0</td>\n",
       "      <td>0.0</td>\n",
       "      <td>0.0</td>\n",
       "      <td>0.0</td>\n",
       "      <td>0.0</td>\n",
       "      <td>0.122104</td>\n",
       "    </tr>\n",
       "    <tr>\n",
       "      <th>2401</th>\n",
       "      <td>1.0</td>\n",
       "      <td>2.154775</td>\n",
       "      <td>1.0</td>\n",
       "      <td>0.0</td>\n",
       "      <td>0.0</td>\n",
       "      <td>0.0</td>\n",
       "      <td>0.0</td>\n",
       "      <td>0.0</td>\n",
       "      <td>0.0</td>\n",
       "      <td>0.0</td>\n",
       "      <td>0.694524</td>\n",
       "    </tr>\n",
       "    <tr>\n",
       "      <th>1899</th>\n",
       "      <td>1.0</td>\n",
       "      <td>-0.403212</td>\n",
       "      <td>0.0</td>\n",
       "      <td>0.0</td>\n",
       "      <td>0.0</td>\n",
       "      <td>0.0</td>\n",
       "      <td>0.0</td>\n",
       "      <td>0.0</td>\n",
       "      <td>0.0</td>\n",
       "      <td>0.0</td>\n",
       "      <td>-1.022735</td>\n",
       "    </tr>\n",
       "    <tr>\n",
       "      <th>2134</th>\n",
       "      <td>1.0</td>\n",
       "      <td>-0.403212</td>\n",
       "      <td>0.0</td>\n",
       "      <td>0.0</td>\n",
       "      <td>0.0</td>\n",
       "      <td>0.0</td>\n",
       "      <td>0.0</td>\n",
       "      <td>0.0</td>\n",
       "      <td>0.0</td>\n",
       "      <td>0.0</td>\n",
       "      <td>-1.022735</td>\n",
       "    </tr>\n",
       "    <tr>\n",
       "      <th>3240</th>\n",
       "      <td>0.0</td>\n",
       "      <td>-0.403212</td>\n",
       "      <td>0.0</td>\n",
       "      <td>0.0</td>\n",
       "      <td>0.0</td>\n",
       "      <td>0.0</td>\n",
       "      <td>0.0</td>\n",
       "      <td>0.0</td>\n",
       "      <td>0.0</td>\n",
       "      <td>0.0</td>\n",
       "      <td>-1.022735</td>\n",
       "    </tr>\n",
       "  </tbody>\n",
       "</table>\n",
       "</div>"
      ],
      "text/plain": [
       "      day_or_month_contract    cnt_on   vk  care  garant_pay  equipment  iptv  \\\n",
       "3888                    1.0 -0.403212  0.0   0.0         0.0        0.0   0.0   \n",
       "2401                    1.0  2.154775  1.0   0.0         0.0        0.0   0.0   \n",
       "1899                    1.0 -0.403212  0.0   0.0         0.0        0.0   0.0   \n",
       "2134                    1.0 -0.403212  0.0   0.0         0.0        0.0   0.0   \n",
       "3240                    0.0 -0.403212  0.0   0.0         0.0        0.0   0.0   \n",
       "\n",
       "      moigorod  swap  broadcast  avg_support  \n",
       "3888       0.0   0.0        0.0     0.122104  \n",
       "2401       0.0   0.0        0.0     0.694524  \n",
       "1899       0.0   0.0        0.0    -1.022735  \n",
       "2134       0.0   0.0        0.0    -1.022735  \n",
       "3240       0.0   0.0        0.0    -1.022735  "
      ]
     },
     "metadata": {},
     "output_type": "display_data"
    }
   ],
   "source": [
    "from sklearn.preprocessing import StandardScaler\n",
    "\n",
    "numeric = ['cnt_on', 'avg_support']\n",
    "\n",
    "scaler = StandardScaler()\n",
    "scaler.fit(X_train[numeric])\n",
    "\n",
    "X_train_full[numeric] = scaler.transform(X_train_full[numeric])\n",
    "X_train[numeric] = scaler.transform(X_train[numeric])\n",
    "X_val[numeric] = scaler.transform(X_val[numeric])\n",
    "X_test[numeric] = scaler.transform(X_test[numeric])\n",
    "\n",
    "display(X_train.head())"
   ]
  },
  {
   "cell_type": "markdown",
   "id": "972c69f0",
   "metadata": {},
   "source": [
    "## ML"
   ]
  },
  {
   "cell_type": "markdown",
   "id": "b4590477",
   "metadata": {},
   "source": [
    "### CatBoostClassifier"
   ]
  },
  {
   "cell_type": "code",
   "execution_count": 94,
   "id": "0275743c",
   "metadata": {},
   "outputs": [],
   "source": [
    " parameters = {'depth'         : [2,3,4,5,6,7,8,9, 10],\n",
    "                 'learning_rate' : [0.01,0.03,0.05, 0.1, 0.3, 0.5, 0.7, 0.9],\n",
    "                  'iterations'    : [70, 100, 120, 150, 170, 200]\n",
    "                 }"
   ]
  },
  {
   "cell_type": "code",
   "execution_count": 95,
   "id": "6716c262",
   "metadata": {},
   "outputs": [
    {
     "data": {
      "text/plain": [
       "[0.5615800865800866, 4.559753954305799]"
      ]
     },
     "execution_count": 95,
     "metadata": {},
     "output_type": "execute_result"
    }
   ],
   "source": [
    "# определение весов целевого класса \n",
    "from sklearn.utils import class_weight\n",
    "cw = list(class_weight.compute_class_weight('balanced',\n",
    "                                             np.unique(df_train['blocked']),\n",
    "                                             df_train['blocked']))\n",
    "cw"
   ]
  },
  {
   "cell_type": "code",
   "execution_count": 96,
   "id": "c1e3b19b",
   "metadata": {},
   "outputs": [],
   "source": [
    "CBC = CatBoostClassifier(random_seed=42,class_weights = (0.56, 4.56), eval_metric='Recall')"
   ]
  },
  {
   "cell_type": "code",
   "execution_count": 97,
   "id": "26a0e8ef",
   "metadata": {},
   "outputs": [
    {
     "name": "stdout",
     "output_type": "stream",
     "text": [
      "0:\tlearn: 0.3708260\ttotal: 138ms\tremaining: 27.4s\n",
      "1:\tlearn: 0.5518453\ttotal: 141ms\tremaining: 14s\n",
      "2:\tlearn: 0.5940246\ttotal: 150ms\tremaining: 9.85s\n",
      "3:\tlearn: 0.5957821\ttotal: 154ms\tremaining: 7.56s\n",
      "4:\tlearn: 0.5957821\ttotal: 157ms\tremaining: 6.13s\n",
      "5:\tlearn: 0.6133568\ttotal: 162ms\tremaining: 5.25s\n",
      "6:\tlearn: 0.6186292\ttotal: 169ms\tremaining: 4.67s\n",
      "7:\tlearn: 0.6186292\ttotal: 172ms\tremaining: 4.12s\n",
      "8:\tlearn: 0.6256591\ttotal: 175ms\tremaining: 3.71s\n",
      "9:\tlearn: 0.6326889\ttotal: 178ms\tremaining: 3.38s\n",
      "10:\tlearn: 0.6485062\ttotal: 182ms\tremaining: 3.13s\n",
      "11:\tlearn: 0.6309315\ttotal: 186ms\tremaining: 2.91s\n",
      "12:\tlearn: 0.6379613\ttotal: 199ms\tremaining: 2.87s\n",
      "13:\tlearn: 0.6397188\ttotal: 202ms\tremaining: 2.68s\n",
      "14:\tlearn: 0.6414763\ttotal: 214ms\tremaining: 2.64s\n",
      "15:\tlearn: 0.6432337\ttotal: 227ms\tremaining: 2.61s\n",
      "16:\tlearn: 0.6520211\ttotal: 230ms\tremaining: 2.47s\n",
      "17:\tlearn: 0.6520211\ttotal: 233ms\tremaining: 2.35s\n",
      "18:\tlearn: 0.6520211\ttotal: 238ms\tremaining: 2.26s\n",
      "19:\tlearn: 0.6467487\ttotal: 245ms\tremaining: 2.2s\n",
      "20:\tlearn: 0.6555360\ttotal: 258ms\tremaining: 2.2s\n",
      "21:\tlearn: 0.6537786\ttotal: 266ms\tremaining: 2.15s\n",
      "22:\tlearn: 0.6449912\ttotal: 278ms\tremaining: 2.14s\n",
      "23:\tlearn: 0.6449912\ttotal: 291ms\tremaining: 2.14s\n",
      "24:\tlearn: 0.6502636\ttotal: 297ms\tremaining: 2.08s\n",
      "25:\tlearn: 0.6502636\ttotal: 302ms\tremaining: 2.02s\n",
      "26:\tlearn: 0.6485062\ttotal: 314ms\tremaining: 2.01s\n",
      "27:\tlearn: 0.6485062\ttotal: 327ms\tremaining: 2.01s\n",
      "28:\tlearn: 0.6485062\ttotal: 333ms\tremaining: 1.97s\n",
      "29:\tlearn: 0.6485062\ttotal: 338ms\tremaining: 1.91s\n",
      "30:\tlearn: 0.6485062\ttotal: 340ms\tremaining: 1.85s\n",
      "31:\tlearn: 0.6467487\ttotal: 354ms\tremaining: 1.86s\n",
      "32:\tlearn: 0.6485062\ttotal: 356ms\tremaining: 1.8s\n",
      "33:\tlearn: 0.6467487\ttotal: 370ms\tremaining: 1.8s\n",
      "34:\tlearn: 0.6467487\ttotal: 383ms\tremaining: 1.81s\n",
      "35:\tlearn: 0.6467487\ttotal: 386ms\tremaining: 1.76s\n",
      "36:\tlearn: 0.6397188\ttotal: 399ms\tremaining: 1.76s\n",
      "37:\tlearn: 0.6397188\ttotal: 412ms\tremaining: 1.76s\n",
      "38:\tlearn: 0.6397188\ttotal: 416ms\tremaining: 1.72s\n",
      "39:\tlearn: 0.6379613\ttotal: 429ms\tremaining: 1.72s\n",
      "40:\tlearn: 0.6379613\ttotal: 442ms\tremaining: 1.71s\n",
      "41:\tlearn: 0.6379613\ttotal: 444ms\tremaining: 1.67s\n",
      "42:\tlearn: 0.6362039\ttotal: 456ms\tremaining: 1.67s\n",
      "43:\tlearn: 0.6379613\ttotal: 469ms\tremaining: 1.66s\n",
      "44:\tlearn: 0.6397188\ttotal: 482ms\tremaining: 1.66s\n",
      "45:\tlearn: 0.6397188\ttotal: 486ms\tremaining: 1.63s\n",
      "46:\tlearn: 0.6397188\ttotal: 491ms\tremaining: 1.6s\n",
      "47:\tlearn: 0.6397188\ttotal: 505ms\tremaining: 1.6s\n",
      "48:\tlearn: 0.6397188\ttotal: 520ms\tremaining: 1.6s\n",
      "49:\tlearn: 0.6397188\ttotal: 523ms\tremaining: 1.57s\n",
      "50:\tlearn: 0.6397188\ttotal: 526ms\tremaining: 1.54s\n",
      "51:\tlearn: 0.6397188\ttotal: 539ms\tremaining: 1.53s\n",
      "52:\tlearn: 0.6344464\ttotal: 553ms\tremaining: 1.53s\n",
      "53:\tlearn: 0.6344464\ttotal: 567ms\tremaining: 1.53s\n",
      "54:\tlearn: 0.6379613\ttotal: 582ms\tremaining: 1.53s\n",
      "55:\tlearn: 0.6397188\ttotal: 596ms\tremaining: 1.53s\n",
      "56:\tlearn: 0.6379613\ttotal: 611ms\tremaining: 1.53s\n",
      "57:\tlearn: 0.6379613\ttotal: 617ms\tremaining: 1.51s\n",
      "58:\tlearn: 0.6379613\ttotal: 632ms\tremaining: 1.51s\n",
      "59:\tlearn: 0.6379613\ttotal: 634ms\tremaining: 1.48s\n",
      "60:\tlearn: 0.6379613\ttotal: 649ms\tremaining: 1.48s\n",
      "61:\tlearn: 0.6379613\ttotal: 664ms\tremaining: 1.48s\n",
      "62:\tlearn: 0.6362039\ttotal: 668ms\tremaining: 1.45s\n",
      "63:\tlearn: 0.6362039\ttotal: 681ms\tremaining: 1.45s\n",
      "64:\tlearn: 0.6379613\ttotal: 685ms\tremaining: 1.42s\n",
      "65:\tlearn: 0.6362039\ttotal: 688ms\tremaining: 1.4s\n",
      "66:\tlearn: 0.6379613\ttotal: 701ms\tremaining: 1.39s\n",
      "67:\tlearn: 0.6362039\ttotal: 713ms\tremaining: 1.38s\n",
      "68:\tlearn: 0.6362039\ttotal: 716ms\tremaining: 1.36s\n",
      "69:\tlearn: 0.6362039\ttotal: 722ms\tremaining: 1.34s\n",
      "70:\tlearn: 0.6379613\ttotal: 737ms\tremaining: 1.34s\n",
      "71:\tlearn: 0.6379613\ttotal: 740ms\tremaining: 1.31s\n",
      "72:\tlearn: 0.6379613\ttotal: 743ms\tremaining: 1.29s\n",
      "73:\tlearn: 0.6379613\ttotal: 757ms\tremaining: 1.29s\n",
      "74:\tlearn: 0.6362039\ttotal: 772ms\tremaining: 1.29s\n",
      "75:\tlearn: 0.6362039\ttotal: 776ms\tremaining: 1.27s\n",
      "76:\tlearn: 0.6362039\ttotal: 779ms\tremaining: 1.24s\n",
      "77:\tlearn: 0.6362039\ttotal: 783ms\tremaining: 1.22s\n",
      "78:\tlearn: 0.6362039\ttotal: 785ms\tremaining: 1.2s\n",
      "79:\tlearn: 0.6362039\ttotal: 789ms\tremaining: 1.18s\n",
      "80:\tlearn: 0.6362039\ttotal: 802ms\tremaining: 1.18s\n",
      "81:\tlearn: 0.6362039\ttotal: 804ms\tremaining: 1.16s\n",
      "82:\tlearn: 0.6362039\ttotal: 810ms\tremaining: 1.14s\n",
      "83:\tlearn: 0.6362039\ttotal: 823ms\tremaining: 1.14s\n",
      "84:\tlearn: 0.6362039\ttotal: 836ms\tremaining: 1.13s\n",
      "85:\tlearn: 0.6362039\ttotal: 840ms\tremaining: 1.11s\n",
      "86:\tlearn: 0.6362039\ttotal: 843ms\tremaining: 1.09s\n",
      "87:\tlearn: 0.6362039\ttotal: 845ms\tremaining: 1.07s\n",
      "88:\tlearn: 0.6379613\ttotal: 857ms\tremaining: 1.07s\n",
      "89:\tlearn: 0.6379613\ttotal: 860ms\tremaining: 1.05s\n",
      "90:\tlearn: 0.6379613\ttotal: 864ms\tremaining: 1.03s\n",
      "91:\tlearn: 0.6379613\ttotal: 878ms\tremaining: 1.03s\n",
      "92:\tlearn: 0.6344464\ttotal: 887ms\tremaining: 1.02s\n",
      "93:\tlearn: 0.6344464\ttotal: 890ms\tremaining: 1s\n",
      "94:\tlearn: 0.6379613\ttotal: 894ms\tremaining: 988ms\n",
      "95:\tlearn: 0.6379613\ttotal: 906ms\tremaining: 981ms\n",
      "96:\tlearn: 0.6379613\ttotal: 919ms\tremaining: 976ms\n",
      "97:\tlearn: 0.6379613\ttotal: 921ms\tremaining: 959ms\n",
      "98:\tlearn: 0.6397188\ttotal: 929ms\tremaining: 948ms\n",
      "99:\tlearn: 0.6449912\ttotal: 943ms\tremaining: 943ms\n",
      "100:\tlearn: 0.6449912\ttotal: 947ms\tremaining: 928ms\n",
      "101:\tlearn: 0.6449912\ttotal: 951ms\tremaining: 914ms\n",
      "102:\tlearn: 0.6449912\ttotal: 965ms\tremaining: 909ms\n",
      "103:\tlearn: 0.6397188\ttotal: 973ms\tremaining: 898ms\n",
      "104:\tlearn: 0.6397188\ttotal: 977ms\tremaining: 884ms\n",
      "105:\tlearn: 0.6449912\ttotal: 980ms\tremaining: 869ms\n",
      "106:\tlearn: 0.6379613\ttotal: 993ms\tremaining: 863ms\n",
      "107:\tlearn: 0.6379613\ttotal: 1s\tremaining: 856ms\n",
      "108:\tlearn: 0.6432337\ttotal: 1.01s\tremaining: 841ms\n",
      "109:\tlearn: 0.6379613\ttotal: 1.01s\tremaining: 827ms\n",
      "110:\tlearn: 0.6379613\ttotal: 1.02s\tremaining: 821ms\n",
      "111:\tlearn: 0.6379613\ttotal: 1.04s\tremaining: 814ms\n",
      "112:\tlearn: 0.6379613\ttotal: 1.04s\tremaining: 800ms\n",
      "113:\tlearn: 0.6379613\ttotal: 1.05s\tremaining: 794ms\n",
      "114:\tlearn: 0.6379613\ttotal: 1.06s\tremaining: 782ms\n",
      "115:\tlearn: 0.6379613\ttotal: 1.06s\tremaining: 768ms\n",
      "116:\tlearn: 0.6379613\ttotal: 1.06s\tremaining: 755ms\n",
      "117:\tlearn: 0.6432337\ttotal: 1.07s\tremaining: 742ms\n",
      "118:\tlearn: 0.6432337\ttotal: 1.07s\tremaining: 729ms\n",
      "119:\tlearn: 0.6432337\ttotal: 1.08s\tremaining: 719ms\n",
      "120:\tlearn: 0.6432337\ttotal: 1.08s\tremaining: 707ms\n",
      "121:\tlearn: 0.6432337\ttotal: 1.1s\tremaining: 701ms\n",
      "122:\tlearn: 0.6432337\ttotal: 1.1s\tremaining: 691ms\n",
      "123:\tlearn: 0.6432337\ttotal: 1.11s\tremaining: 684ms\n",
      "124:\tlearn: 0.6379613\ttotal: 1.13s\tremaining: 678ms\n",
      "125:\tlearn: 0.6379613\ttotal: 1.14s\tremaining: 671ms\n",
      "126:\tlearn: 0.6379613\ttotal: 1.15s\tremaining: 661ms\n",
      "127:\tlearn: 0.6432337\ttotal: 1.16s\tremaining: 654ms\n",
      "128:\tlearn: 0.6379613\ttotal: 1.17s\tremaining: 642ms\n",
      "129:\tlearn: 0.6379613\ttotal: 1.18s\tremaining: 633ms\n",
      "130:\tlearn: 0.6379613\ttotal: 1.18s\tremaining: 621ms\n",
      "131:\tlearn: 0.6379613\ttotal: 1.18s\tremaining: 610ms\n",
      "132:\tlearn: 0.6379613\ttotal: 1.19s\tremaining: 598ms\n",
      "133:\tlearn: 0.6379613\ttotal: 1.19s\tremaining: 586ms\n",
      "134:\tlearn: 0.6379613\ttotal: 1.19s\tremaining: 574ms\n",
      "135:\tlearn: 0.6379613\ttotal: 1.2s\tremaining: 564ms\n",
      "136:\tlearn: 0.6379613\ttotal: 1.21s\tremaining: 556ms\n",
      "137:\tlearn: 0.6379613\ttotal: 1.21s\tremaining: 545ms\n",
      "138:\tlearn: 0.6379613\ttotal: 1.22s\tremaining: 534ms\n",
      "139:\tlearn: 0.6379613\ttotal: 1.22s\tremaining: 523ms\n",
      "140:\tlearn: 0.6379613\ttotal: 1.22s\tremaining: 512ms\n",
      "141:\tlearn: 0.6379613\ttotal: 1.23s\tremaining: 501ms\n",
      "142:\tlearn: 0.6379613\ttotal: 1.23s\tremaining: 490ms\n",
      "143:\tlearn: 0.6379613\ttotal: 1.23s\tremaining: 480ms\n",
      "144:\tlearn: 0.6379613\ttotal: 1.25s\tremaining: 472ms\n",
      "145:\tlearn: 0.6379613\ttotal: 1.25s\tremaining: 462ms\n",
      "146:\tlearn: 0.6379613\ttotal: 1.25s\tremaining: 451ms\n",
      "147:\tlearn: 0.6379613\ttotal: 1.25s\tremaining: 441ms\n",
      "148:\tlearn: 0.6379613\ttotal: 1.26s\tremaining: 430ms\n",
      "149:\tlearn: 0.6379613\ttotal: 1.26s\tremaining: 419ms\n",
      "150:\tlearn: 0.6379613\ttotal: 1.26s\tremaining: 410ms\n",
      "151:\tlearn: 0.6379613\ttotal: 1.27s\tremaining: 403ms\n",
      "152:\tlearn: 0.6379613\ttotal: 1.28s\tremaining: 393ms\n",
      "153:\tlearn: 0.6397188\ttotal: 1.29s\tremaining: 386ms\n",
      "154:\tlearn: 0.6397188\ttotal: 1.29s\tremaining: 376ms\n",
      "155:\tlearn: 0.6379613\ttotal: 1.3s\tremaining: 366ms\n",
      "156:\tlearn: 0.6379613\ttotal: 1.3s\tremaining: 356ms\n",
      "157:\tlearn: 0.6379613\ttotal: 1.3s\tremaining: 346ms\n",
      "158:\tlearn: 0.6414763\ttotal: 1.31s\tremaining: 337ms\n",
      "159:\tlearn: 0.6397188\ttotal: 1.32s\tremaining: 329ms\n",
      "160:\tlearn: 0.6397188\ttotal: 1.32s\tremaining: 319ms\n",
      "161:\tlearn: 0.6397188\ttotal: 1.32s\tremaining: 310ms\n",
      "162:\tlearn: 0.6397188\ttotal: 1.32s\tremaining: 301ms\n",
      "163:\tlearn: 0.6397188\ttotal: 1.33s\tremaining: 292ms\n",
      "164:\tlearn: 0.6379613\ttotal: 1.33s\tremaining: 283ms\n",
      "165:\tlearn: 0.6432337\ttotal: 1.34s\tremaining: 275ms\n",
      "166:\tlearn: 0.6432337\ttotal: 1.35s\tremaining: 266ms\n",
      "167:\tlearn: 0.6379613\ttotal: 1.36s\tremaining: 259ms\n",
      "168:\tlearn: 0.6432337\ttotal: 1.37s\tremaining: 252ms\n",
      "169:\tlearn: 0.6432337\ttotal: 1.39s\tremaining: 245ms\n",
      "170:\tlearn: 0.6467487\ttotal: 1.4s\tremaining: 238ms\n",
      "171:\tlearn: 0.6467487\ttotal: 1.4s\tremaining: 229ms\n",
      "172:\tlearn: 0.6467487\ttotal: 1.41s\tremaining: 220ms\n",
      "173:\tlearn: 0.6467487\ttotal: 1.41s\tremaining: 211ms\n",
      "174:\tlearn: 0.6449912\ttotal: 1.42s\tremaining: 204ms\n"
     ]
    },
    {
     "name": "stdout",
     "output_type": "stream",
     "text": [
      "175:\tlearn: 0.6432337\ttotal: 1.43s\tremaining: 195ms\n",
      "176:\tlearn: 0.6432337\ttotal: 1.43s\tremaining: 186ms\n",
      "177:\tlearn: 0.6432337\ttotal: 1.44s\tremaining: 178ms\n",
      "178:\tlearn: 0.6449912\ttotal: 1.46s\tremaining: 171ms\n",
      "179:\tlearn: 0.6449912\ttotal: 1.46s\tremaining: 162ms\n",
      "180:\tlearn: 0.6449912\ttotal: 1.46s\tremaining: 153ms\n",
      "181:\tlearn: 0.6449912\ttotal: 1.46s\tremaining: 145ms\n",
      "182:\tlearn: 0.6449912\ttotal: 1.47s\tremaining: 137ms\n",
      "183:\tlearn: 0.6449912\ttotal: 1.48s\tremaining: 129ms\n",
      "184:\tlearn: 0.6449912\ttotal: 1.49s\tremaining: 120ms\n",
      "185:\tlearn: 0.6449912\ttotal: 1.5s\tremaining: 113ms\n",
      "186:\tlearn: 0.6449912\ttotal: 1.5s\tremaining: 104ms\n",
      "187:\tlearn: 0.6449912\ttotal: 1.5s\tremaining: 96ms\n",
      "188:\tlearn: 0.6449912\ttotal: 1.52s\tremaining: 88.3ms\n",
      "189:\tlearn: 0.6432337\ttotal: 1.53s\tremaining: 80.5ms\n",
      "190:\tlearn: 0.6432337\ttotal: 1.53s\tremaining: 72.3ms\n",
      "191:\tlearn: 0.6432337\ttotal: 1.55s\tremaining: 64.4ms\n",
      "192:\tlearn: 0.6432337\ttotal: 1.55s\tremaining: 56.2ms\n",
      "193:\tlearn: 0.6432337\ttotal: 1.55s\tremaining: 48ms\n",
      "194:\tlearn: 0.6414763\ttotal: 1.56s\tremaining: 40.1ms\n",
      "195:\tlearn: 0.6414763\ttotal: 1.57s\tremaining: 32ms\n",
      "196:\tlearn: 0.6414763\ttotal: 1.57s\tremaining: 23.9ms\n",
      "197:\tlearn: 0.6414763\ttotal: 1.58s\tremaining: 15.9ms\n",
      "198:\tlearn: 0.6414763\ttotal: 1.58s\tremaining: 7.94ms\n",
      "199:\tlearn: 0.6414763\ttotal: 1.58s\tremaining: 0us\n",
      " Results from Grid Search \n",
      "\n",
      " The best estimator across ALL searched params:\n",
      " <catboost.core.CatBoostClassifier object at 0x0000018600E5E130>\n",
      "\n",
      " The best score across ALL searched params:\n",
      " 0.7163189354202781\n",
      "\n",
      " The best parameters across ALL searched params:\n",
      " {'depth': 10, 'iterations': 200, 'learning_rate': 0.03}\n"
     ]
    }
   ],
   "source": [
    "from sklearn.model_selection import GridSearchCV\n",
    "Grid_CBC = GridSearchCV(estimator=CBC, param_grid = parameters, cv = 5, n_jobs=-1)\n",
    "Grid_CBC.fit(X_train_full, y_train_full)\n",
    "print(\" Results from Grid Search \" )\n",
    "print(\"\\n The best estimator across ALL searched params:\\n\",Grid_CBC.best_estimator_)\n",
    "print(\"\\n The best score across ALL searched params:\\n\",Grid_CBC.best_score_)\n",
    "print(\"\\n The best parameters across ALL searched params:\\n\",Grid_CBC.best_params_)"
   ]
  },
  {
   "cell_type": "markdown",
   "id": "c8fb7ba8",
   "metadata": {},
   "source": [
    "Обучим модель на тренировочных данных."
   ]
  },
  {
   "cell_type": "code",
   "execution_count": 98,
   "id": "49241f15",
   "metadata": {},
   "outputs": [
    {
     "name": "stdout",
     "output_type": "stream",
     "text": [
      "0:\tlearn: 0.3708260\ttest: 0.3943662\tbest: 0.3943662 (0)\ttotal: 2.44ms\tremaining: 487ms\n",
      "30:\tlearn: 0.6485062\ttest: 0.6901408\tbest: 0.6971831 (10)\ttotal: 198ms\tremaining: 1.08s\n",
      "60:\tlearn: 0.6379613\ttest: 0.6690141\tbest: 0.6971831 (10)\ttotal: 496ms\tremaining: 1.13s\n",
      "90:\tlearn: 0.6379613\ttest: 0.6690141\tbest: 0.6971831 (10)\ttotal: 723ms\tremaining: 867ms\n",
      "120:\tlearn: 0.6432337\ttest: 0.6690141\tbest: 0.6971831 (10)\ttotal: 950ms\tremaining: 620ms\n",
      "150:\tlearn: 0.6379613\ttest: 0.6690141\tbest: 0.6971831 (10)\ttotal: 1.14s\tremaining: 370ms\n",
      "180:\tlearn: 0.6449912\ttest: 0.6760563\tbest: 0.6971831 (10)\ttotal: 1.35s\tremaining: 142ms\n",
      "199:\tlearn: 0.6414763\ttest: 0.6690141\tbest: 0.6971831 (10)\ttotal: 1.47s\tremaining: 0us\n",
      "\n",
      "bestTest = 0.6971830986\n",
      "bestIteration = 10\n",
      "\n",
      "Shrink model to first 11 iterations.\n",
      "recall_score CatBoostClassifier: 0.68\n",
      "auc_roc_cb CatBoostClassifier: 0.68\n"
     ]
    }
   ],
   "source": [
    "model = CatBoostClassifier(\n",
    "    iterations=200,\n",
    "    random_seed=42,\n",
    "    learning_rate=0.03,\n",
    "    class_weights = (0.56, 4.56),\n",
    "    #early_stopping_rounds= 100,\n",
    "    eval_metric='Recall',\n",
    "    depth=10\n",
    ")\n",
    "\n",
    "model.fit(X_train_full, y_train_full,\n",
    "         eval_set=(X_val, y_val),\n",
    "          verbose=30,\n",
    "          plot=False\n",
    ")\n",
    "predictions_valid_cb = model.predict(X_val)\n",
    "recall_cb = recall_score(y_val, predictions_valid_cb, average='macro')\n",
    "auc_roc_cb = roc_auc_score(y_val, predictions_valid_cb)\n",
    "print('recall_score CatBoostClassifier:', round(recall_cb,2))\n",
    "print('auc_roc_cb CatBoostClassifier:', round(auc_roc_cb,2))"
   ]
  },
  {
   "cell_type": "code",
   "execution_count": 99,
   "id": "2ec40fe7",
   "metadata": {
    "scrolled": false
   },
   "outputs": [
    {
     "data": {
      "image/png": "[encoded data removed]",
      "text/plain": [
       "<Figure size 720x360 with 1 Axes>"
      ]
     },
     "metadata": {},
     "output_type": "display_data"
    }
   ],
   "source": [
    "df_feature_importance = pd.DataFrame({'feature': X_train.columns.values, 'value': model.feature_importances_})\n",
    "df_feature_importance = df_feature_importance.set_index(['feature'])\n",
    "df_feature_importance = df_feature_importance.sort_values(by='value', ascending=False)\n",
    "df_feature_importance.plot(kind = 'bar', title= model, figsize=(10,5))\n",
    "plt.show()"
   ]
  },
  {
   "cell_type": "markdown",
   "id": "294b8580",
   "metadata": {},
   "source": [
    "Обучим финальную модель."
   ]
  },
  {
   "cell_type": "code",
   "execution_count": 100,
   "id": "326d1004",
   "metadata": {},
   "outputs": [
    {
     "name": "stdout",
     "output_type": "stream",
     "text": [
      "0:\tlearn: 0.3708260\ttest: 0.3943662\tbest: 0.3943662 (0)\ttotal: 3.09ms\tremaining: 616ms\n",
      "30:\tlearn: 0.6485062\ttest: 0.6901408\tbest: 0.6971831 (10)\ttotal: 196ms\tremaining: 1.07s\n",
      "60:\tlearn: 0.6379613\ttest: 0.6690141\tbest: 0.6971831 (10)\ttotal: 518ms\tremaining: 1.18s\n",
      "90:\tlearn: 0.6379613\ttest: 0.6690141\tbest: 0.6971831 (10)\ttotal: 713ms\tremaining: 854ms\n",
      "120:\tlearn: 0.6432337\ttest: 0.6690141\tbest: 0.6971831 (10)\ttotal: 916ms\tremaining: 598ms\n",
      "150:\tlearn: 0.6379613\ttest: 0.6690141\tbest: 0.6971831 (10)\ttotal: 1.12s\tremaining: 365ms\n",
      "180:\tlearn: 0.6449912\ttest: 0.6760563\tbest: 0.6971831 (10)\ttotal: 1.32s\tremaining: 139ms\n",
      "199:\tlearn: 0.6414763\ttest: 0.6690141\tbest: 0.6971831 (10)\ttotal: 1.44s\tremaining: 0us\n",
      "\n",
      "bestTest = 0.6971830986\n",
      "bestIteration = 10\n",
      "\n",
      "Shrink model to first 11 iterations.\n",
      "recall_score CatBoostClassifier: 0.29\n"
     ]
    }
   ],
   "source": [
    "model = CatBoostClassifier(\n",
    "    iterations=200,\n",
    "    random_seed=42,\n",
    "    learning_rate=0.03,\n",
    "    class_weights = (0.56, 4.56),\n",
    "    #early_stopping_rounds= 100,\n",
    "    eval_metric='Recall',\n",
    "    depth=10\n",
    ")\n",
    "\n",
    "model.fit(X_train_full, y_train_full,\n",
    "         eval_set=(X_val, y_val),\n",
    "          verbose=30,\n",
    "          plot=False\n",
    ")\n",
    "predictions_valid_cb = model.predict(X_test)\n",
    "recall_cb = recall_score(y_test, predictions_valid_cb, average='macro')\n",
    "print('recall_score CatBoostClassifier:', round(recall_cb,2))"
   ]
  },
  {
   "cell_type": "raw",
   "id": "2e19866f",
   "metadata": {},
   "source": [
    "# все признаки\n",
    "Sub = pd.DataFrame({ 'contract_id':df_test['contract_id'],'blocked': predictions_valid_cb })\n",
    "Sub.to_csv(\"Sub_cb_final.csv\", index=False)\n",
    "Sub"
   ]
  },
  {
   "cell_type": "code",
   "execution_count": null,
   "id": "43056d5c",
   "metadata": {},
   "outputs": [],
   "source": []
  }
 ],
 "metadata": {
  "kernelspec": {
   "display_name": "Python 3",
   "language": "python",
   "name": "python3"
  },
  "language_info": {
   "codemirror_mode": {
    "name": "ipython",
    "version": 3
   },
   "file_extension": ".py",
   "mimetype": "text/x-python",
   "name": "python",
   "nbconvert_exporter": "python",
   "pygments_lexer": "ipython3",
   "version": "3.8.8"
  }
 },
 "nbformat": 4,
 "nbformat_minor": 5
}
